{
 "cells": [
  {
   "cell_type": "markdown",
   "metadata": {},
   "source": [
    "### Optional implementation in pgmpy\n",
    "\n",
    "This was done to compare the performance, stability and fit of **pgmpy** with **libpgm** for the current problem. Refer to **Section 3 of Report**"
   ]
  },
  {
   "cell_type": "markdown",
   "metadata": {},
   "source": [
    "#### Part 1\n",
    "## Model Construction"
   ]
  },
  {
   "cell_type": "code",
   "execution_count": 1,
   "metadata": {
    "collapsed": true
   },
   "outputs": [],
   "source": [
    "from pgmpy.models import BayesianModel\n",
    "from pgmpy.factors.discrete import TabularCPD\n",
    "import numpy as np"
   ]
  },
  {
   "cell_type": "code",
   "execution_count": 2,
   "metadata": {
    "collapsed": false
   },
   "outputs": [],
   "source": [
    "model = BayesianModel()"
   ]
  },
  {
   "cell_type": "markdown",
   "metadata": {},
   "source": [
    "**Adding nodes related to Summer/Fall Season**"
   ]
  },
  {
   "cell_type": "code",
   "execution_count": 3,
   "metadata": {
    "collapsed": false
   },
   "outputs": [],
   "source": [
    "model.add_nodes_from([\n",
    "                    'CCBFallSum', 'RUFallSum', 'IceMFallSum', 'IceCFallSum', 'IceBFallSum', \n",
    "                    'EEFallSum', 'AVAFallSum', 'BenFallSum', 'OilFallSum', 'DPFallSum', 'BCFallSum', \n",
    "                    'SATFallSum', 'CRFallSum', 'PRFallSum', 'HDFallSum', 'CDFallSum', 'TMFallSum', \n",
    "                    'HCDMFallSum', 'HSFallSum', 'TASFallSum', 'TAOFallSum', 'SIEFallSum', 'ASFallSum'\n",
    "                    ])"
   ]
  },
  {
   "cell_type": "code",
   "execution_count": 4,
   "metadata": {
    "collapsed": false
   },
   "outputs": [],
   "source": [
    "model.add_edges_from([('CCBFallSum', 'BenFallSum'), \n",
    "                      ('RUFallSum', 'BenFallSum'),\n",
    "                      ('IceMFallSum', 'AVAFallSum'),\n",
    "                      ('IceCFallSum', 'SIEFallSum'),\n",
    "                      ('IceBFallSum', 'SIEFallSum'),\n",
    "                      ('EEFallSum', 'BCFallSum'),\n",
    "                      ('AVAFallSum', 'EEFallSum'), ('AVAFallSum', 'CRFallSum'), ('AVAFallSum', 'DPFallSum'), ('AVAFallSum', 'PRFallSum'),\n",
    "                      ('BenFallSum', 'EEFallSum'),\n",
    "                      ('OilFallSum', 'BenFallSum'), ('OilFallSum', 'BCFallSum'),\n",
    "                      ('DPFallSum', 'BCFallSum'),\n",
    "                      ('BCFallSum', 'ASFallSum'),\n",
    "                      ('SATFallSum', 'OilFallSum'), ('SATFallSum', 'HDFallSum'),\n",
    "                      ('CRFallSum', 'CDFallSum'),\n",
    "                      ('PRFallSum', 'TMFallSum'),\n",
    "                      ('HDFallSum', 'CDFallSum'),\n",
    "                      ('CDFallSum', 'TMFallSum'),\n",
    "                      ('TMFallSum', 'ASFallSum'),\n",
    "                      ('HCDMFallSum', 'HDFallSum'), ('HCDMFallSum', 'TMFallSum'),\n",
    "                      ('HSFallSum', 'HDFallSum'),\n",
    "                      ('TASFallSum', 'HCDMFallSum'),\n",
    "                      ('TAOFallSum', 'HCDMFallSum'),\n",
    "                      ('SIEFallSum', 'AVAFallSum')\n",
    "                     ])"
   ]
  },
  {
   "cell_type": "code",
   "execution_count": 5,
   "metadata": {
    "collapsed": true
   },
   "outputs": [],
   "source": [
    "CCBFallSum = TabularCPD(variable='CCBFallSum', variable_card=3, \n",
    "                        values=[[0.3333333],   [0.3333333],   [0.3333333]])"
   ]
  },
  {
   "cell_type": "code",
   "execution_count": 6,
   "metadata": {
    "collapsed": true
   },
   "outputs": [],
   "source": [
    "RUFallSum = TabularCPD(variable='RUFallSum', variable_card=3, \n",
    "                        values=[[0.3333333],   [0.3333333],   [0.3333333]])"
   ]
  },
  {
   "cell_type": "code",
   "execution_count": 7,
   "metadata": {
    "collapsed": true
   },
   "outputs": [],
   "source": [
    "IceMFallSum = TabularCPD(variable='IceMFallSum', variable_card=4, \n",
    "                        values=[[0.25],        [0.25],        [0.25],        [0.25]])"
   ]
  },
  {
   "cell_type": "code",
   "execution_count": 8,
   "metadata": {
    "collapsed": true
   },
   "outputs": [],
   "source": [
    "IceCFallSum = TabularCPD(variable='IceCFallSum', variable_card=5, \n",
    "                        values=[[0.2],         [0.2],         [0.2],         [0.2],         [0.2]])"
   ]
  },
  {
   "cell_type": "code",
   "execution_count": 9,
   "metadata": {
    "collapsed": true
   },
   "outputs": [],
   "source": [
    "IceBFallSum = TabularCPD(variable='IceBFallSum', variable_card=5, \n",
    "                        values=[[0.2],         [0.2],         [0.2],         [0.2],         [0.2]])"
   ]
  },
  {
   "cell_type": "code",
   "execution_count": 10,
   "metadata": {
    "collapsed": false
   },
   "outputs": [],
   "source": [
    "EEFallSum = TabularCPD(variable='EEFallSum', variable_card=3, \n",
    "                        values=np.array([[0.9,         0.1,         0],\n",
    "                                [0.6,         0.35,        0.05], \n",
    "                                [0.2,         0.6,         0.2], \n",
    "                                [0.05,        0.35,        0.6], \n",
    "                                [0.75,        0.2,         0.05], \n",
    "                                [0.35,        0.6,         0.05], \n",
    "                                [0.05,        0.6,         0.35], \n",
    "                                [0.05,        0.2,         0.75], \n",
    "                                [0.2,         0.6,         0.2], \n",
    "                                [0.05,        0.6,         0.35], \n",
    "                                [0.05,        0.2,         0.75], \n",
    "                                [0,           0.1,         0.9]\n",
    "                               ]).T.tolist(),\n",
    "                        evidence=['AVAFallSum', 'BenFallSum'], \n",
    "                        evidence_card=[4,3])"
   ]
  },
  {
   "cell_type": "code",
   "execution_count": 11,
   "metadata": {
    "collapsed": false
   },
   "outputs": [],
   "source": [
    "AVAFallSum = TabularCPD(variable='AVAFallSum', variable_card=4, \n",
    "                        values=np.array([[1,           0,           0,           0],\n",
    "                                [0.95,        0.05,        0,           0],\n",
    "                                [0,           0.25,        0.5,         0.25],\n",
    "                                [0,           0.15,        0.5,         0.35],\n",
    "                                [0,           0.1,         0.5,         0.4],\n",
    "                                [0,           0,           0.15,        0.85],\n",
    "                                [0,           0.1,         0.2,         0.7],\n",
    "                                [0,           0.05,        0.2,         0.75],\n",
    "                                [0,           0,           0.1,         0.9],\n",
    "                                [0,           0,           0.15,        0.85],\n",
    "                                [0,           0,           0.1,         0.9],\n",
    "                                [0,           0,           0,           1]\n",
    "                               ]).T.tolist(),\n",
    "                        evidence=['SIEFallSum', 'IceMFallSum'], \n",
    "                        evidence_card=[3,4])"
   ]
  },
  {
   "cell_type": "code",
   "execution_count": 12,
   "metadata": {
    "collapsed": false
   },
   "outputs": [],
   "source": [
    "BenFallSum = TabularCPD(variable='BenFallSum', variable_card=3, \n",
    "                        values=np.array([[0.9,         0.1,         0],\n",
    "                                [0.8,         0.2,         0],\n",
    "                                [0.6,         0.35,        0.05],\n",
    "                                [0.8,         0.2,         0],\n",
    "                                [0.6,         0.35,        0.05],\n",
    "                                [0.35,        0.6,         0.05],\n",
    "                                [0.6,         0.35,        0.05],\n",
    "                                [0.35,        0.6,         0.05],\n",
    "                                [0.15,        0.7,         0.15],\n",
    "                                [0.6,         0.35,        0.05],\n",
    "                                [0.35,        0.6,         0.05],\n",
    "                                [0.15,        0.7,         0.15],\n",
    "                                [0.35,        0.6,         0.05],\n",
    "                                [0.15,        0.7,         0.15],\n",
    "                                [0.05,        0.6,         0.35],\n",
    "                                [0.15,        0.7,         0.15],\n",
    "                                [0.05,        0.6,         0.35],\n",
    "                                [0.05,        0.35,        0.6],\n",
    "                                [0.15,        0.7,         0.15],\n",
    "                                [0.05,        0.6,         0.35],\n",
    "                                [0.05,        0.35,        0.6],\n",
    "                                [0.05,        0.6,         0.35],\n",
    "                                [0.05,        0.35,        0.6],\n",
    "                                [0,           0.2,         0.8],\n",
    "                                [0.05,        0.35,        0.6],\n",
    "                                [0,           0.2,         0.8],\n",
    "                                [0,           0.1,         0.9]\n",
    "                               ]).T.tolist(),\n",
    "                        evidence=['OilFallSum', 'RUFallSum', 'CCBFallSum'], \n",
    "                        evidence_card=[3,3,3])"
   ]
  },
  {
   "cell_type": "code",
   "execution_count": 13,
   "metadata": {
    "collapsed": false
   },
   "outputs": [],
   "source": [
    "OilFallSum = TabularCPD(variable='OilFallSum', variable_card=3, \n",
    "                        values=np.array([[0.9,         0.1,         0],\n",
    "                                [0.7,         0.2,         0.1],\n",
    "                                [0.5,         0.3,         0.2]\n",
    "                               ]).T.tolist(),\n",
    "                        evidence=['SATFallSum'], \n",
    "                        evidence_card=[3])"
   ]
  },
  {
   "cell_type": "code",
   "execution_count": 14,
   "metadata": {
    "collapsed": false
   },
   "outputs": [],
   "source": [
    "DPFallSum = TabularCPD(variable='DPFallSum', variable_card=3, \n",
    "                        values=np.array([[0.9,         0.1,         0],\n",
    "                                [0.8,         0.2,         0],\n",
    "                                [0.7,         0.2,         0.1],\n",
    "                                [0.6,         0.3,         0.1]\n",
    "                               ]).T.tolist(),\n",
    "                        evidence=['AVAFallSum'], \n",
    "                        evidence_card=[4])"
   ]
  },
  {
   "cell_type": "code",
   "execution_count": 15,
   "metadata": {
    "collapsed": false
   },
   "outputs": [],
   "source": [
    "BCFallSum = TabularCPD(variable='BCFallSum', variable_card=3, \n",
    "                        values=np.array([[0.95,        0.05,        0],\n",
    "                                [0.9,         0.1,         0],\n",
    "                                [0,           0.3,         0.7],\n",
    "                                [0.9,         0.1,         0],\n",
    "                                [0,           0.4,         0.6],\n",
    "                                [0,           0.1,         0.9],\n",
    "                                [0,           0.3,         0.7],\n",
    "                                [0,           0.1,         0.9],\n",
    "                                [0,           0,           1],\n",
    "                                [0.9,         0.1,         0],\n",
    "                                [0.8,         0.2,         0],\n",
    "                                [0,           0.3,         0.7],\n",
    "                                [0.8,         0.2,         0],\n",
    "                                [0,           0.3,         0.7],\n",
    "                                [0,           0.1,         0.9],\n",
    "                                [0,           0.3,         0.7],\n",
    "                                [0,           0.1,         0.9],\n",
    "                                [0,           0,           1],\n",
    "                                [0.8,         0.2,         0],\n",
    "                                [0.7,         0.3,         0],\n",
    "                                [0,           0.2,         0.8],\n",
    "                                [0.7,         0.3,         0],\n",
    "                                [0,           0.3,         0.7],\n",
    "                                [0,           0.1,         0.9],\n",
    "                                [0,           0.2,         0.8],\n",
    "                                [0,           0.1,         0.9],\n",
    "                                [0,           0,           1]\n",
    "                               ]).T.tolist(),\n",
    "                        evidence=['OilFallSum', 'DPFallSum', 'EEFallSum'], \n",
    "                        evidence_card=[3,3,3])"
   ]
  },
  {
   "cell_type": "code",
   "execution_count": 16,
   "metadata": {
    "collapsed": true
   },
   "outputs": [],
   "source": [
    "SATFallSum = TabularCPD(variable='SATFallSum', variable_card=3, \n",
    "                        values=[[0.3333333],   [0.3333333],   [0.3333333]])"
   ]
  },
  {
   "cell_type": "code",
   "execution_count": 17,
   "metadata": {
    "collapsed": false
   },
   "outputs": [],
   "source": [
    "CRFallSum = TabularCPD(variable='CRFallSum', variable_card=3, \n",
    "                        values=np.array([[0.95,        0.05,        0],\n",
    "                                [0.7,         0.25,        0.05],\n",
    "                                [0.3,         0.4,         0.3],\n",
    "                                [0,           0.05,        0.95]\n",
    "                               ]).T.tolist(),\n",
    "                        evidence=['AVAFallSum'], \n",
    "                        evidence_card=[4])"
   ]
  },
  {
   "cell_type": "code",
   "execution_count": 18,
   "metadata": {
    "collapsed": false
   },
   "outputs": [],
   "source": [
    "PRFallSum = TabularCPD(variable='PRFallSum', variable_card=3, \n",
    "                        values=np.array([[0.9,         0.1,         0],\n",
    "                                [0.85,        0.15,        0],\n",
    "                                [0.5,         0.3,         0.2],\n",
    "                                [0.2,         0.4,         0.4]\n",
    "                               ]).T.tolist(),\n",
    "                        evidence=['AVAFallSum'], \n",
    "                        evidence_card=[4])"
   ]
  },
  {
   "cell_type": "code",
   "execution_count": 19,
   "metadata": {
    "collapsed": false
   },
   "outputs": [],
   "source": [
    "HDFallSum = TabularCPD(variable='HDFallSum', variable_card=3, \n",
    "                        values=np.array([[0.85,        0.15,        0],\n",
    "                                [0.7,         0.25,        0.05],\n",
    "                                [0.3,         0.5,         0.2],\n",
    "                                [0.7,         0.25,        0.05],\n",
    "                                [0.3,         0.5,         0.2],\n",
    "                                [0.2,         0.5,         0.3],\n",
    "                                [0.6,         0.3,         0.1],\n",
    "                                [0.2,         0.6,         0.2],\n",
    "                                [0.1,         0.3,         0.6],\n",
    "                                [0.7,         0.25,        0.05],\n",
    "                                [0.3,         0.5,         0.2],\n",
    "                                [0.2,         0.5,         0.3],\n",
    "                                [0.6,         0.3,         0.1],\n",
    "                                [0.2,         0.6,         0.2],\n",
    "                                [0.1,         0.3,         0.6],\n",
    "                                [0.3,         0.5,         0.2],\n",
    "                                [0.2,         0.5,         0.3],\n",
    "                                [0.05,        0.25,        0.7],\n",
    "                                [0.6,         0.3,         0.1],\n",
    "                                [0.2,         0.6,         0.2],\n",
    "                                [0.1,         0.3,         0.6],\n",
    "                                [0.3,         0.5,         0.2],\n",
    "                                [0.2,         0.5,         0.3],\n",
    "                                [0.05,        0.25,        0.7],\n",
    "                                [0.2,         0.5,         0.3],\n",
    "                                [0.05,        0.25,        0.7],\n",
    "                                [0,           0.15,        0.85]\n",
    "                               ]).T.tolist(),\n",
    "                        evidence=['HCDMFallSum', 'SATFallSum', 'HSFallSum'], \n",
    "                        evidence_card=[3,3,3])"
   ]
  },
  {
   "cell_type": "code",
   "execution_count": 20,
   "metadata": {
    "collapsed": false
   },
   "outputs": [],
   "source": [
    "CDFallSum = TabularCPD(variable='CDFallSum', variable_card=3, \n",
    "                        values=np.array([[0.9,         0.1,         0],\n",
    "                                [0.6,         0.35,        0.05],\n",
    "                                [0.15,        0.7,         0.15],\n",
    "                                [0.6,         0.35,        0.05],\n",
    "                                [0.15,        0.7,         0.15],\n",
    "                                [0.05,        0.35,        0.6],\n",
    "                                [0.15,        0.7,         0.15],\n",
    "                                [0.05,        0.35,        0.6],\n",
    "                                [0,           0.1,         0.9]\n",
    "                               ]).T.tolist(),\n",
    "                        evidence=['HDFallSum', 'CRFallSum'], \n",
    "                        evidence_card=[3,3])"
   ]
  },
  {
   "cell_type": "code",
   "execution_count": 21,
   "metadata": {
    "collapsed": false
   },
   "outputs": [],
   "source": [
    "TMFallSum = TabularCPD(variable='TMFallSum', variable_card=3, \n",
    "                        values=np.array([[0.95,        0.05,        0],\n",
    "                                [0.65,        0.35,        0],\n",
    "                                [0.15,        0.6,         0.25],\n",
    "                                [0.8,         0.2,         0],\n",
    "                                [0.25,        0.6,         0.15],\n",
    "                                [0,           0.35,        0.65],\n",
    "                                [0.65,        0.35,        0],\n",
    "                                [0.15,        0.6,         0.25],\n",
    "                                [0,           0.2,         0.8],\n",
    "                                [0.95,        0.05,        0],\n",
    "                                [0.5,         0.45,        0.05],\n",
    "                                [0.05,        0.45,        0.5],\n",
    "                                [0.65,        0.35,        0],\n",
    "                                [0.2,         0.6,         0.2],\n",
    "                                [0,           0.35,        0.65],\n",
    "                                [0.5,         0.45,        0.05],\n",
    "                                [0.05,        0.45,        0.5],\n",
    "                                [0,           0.05,        0.95],\n",
    "                                [0.8,         0.2,         0],\n",
    "                                [0.25,        0.6,         0.15],\n",
    "                                [0,           0.35,        0.65],\n",
    "                                [0.65,        0.35,        0],\n",
    "                                [0.15,        0.6,         0.25],\n",
    "                                [0,           0.2,         0.8],\n",
    "                                [0.25,        0.6,         0.15],\n",
    "                                [0,           0.35,        0.65],\n",
    "                                [0,           0.05,        0.95]\n",
    "                               ]).T.tolist(),\n",
    "                        evidence=['HCDMFallSum', 'CDFallSum', 'PRFallSum'], \n",
    "                        evidence_card=[3,3,3])"
   ]
  },
  {
   "cell_type": "code",
   "execution_count": 22,
   "metadata": {
    "collapsed": false
   },
   "outputs": [],
   "source": [
    "HCDMFallSum = TabularCPD(variable='HCDMFallSum', variable_card=3, \n",
    "                        values=np.array([[1,           0,           0],\n",
    "                                [0.75,        0.25,        0],\n",
    "                                [0,           0.8,         0.2],\n",
    "                                [0,           0,           1],\n",
    "                                [0.75,        0.25,        0],\n",
    "                                [0.33,        0.67,        0],\n",
    "                                [0,           0.43,        0.57],\n",
    "                                [0,           0,           1],\n",
    "                                [0,           0.8,         0.2],\n",
    "                                [0,           0.43,        0.57],\n",
    "                                [0,           0,           1],\n",
    "                                [0,           0,           1],\n",
    "                                [0,           0,           1],\n",
    "                                [0,           0,           1],\n",
    "                                [0,           0,           1],\n",
    "                                [0,           0,           1]\n",
    "                               ]).T.tolist(),\n",
    "                        evidence=['TASFallSum', 'TAOFallSum'], \n",
    "                        evidence_card=[4,4])"
   ]
  },
  {
   "cell_type": "code",
   "execution_count": 23,
   "metadata": {
    "collapsed": true
   },
   "outputs": [],
   "source": [
    "HSFallSum = TabularCPD(variable='HSFallSum', variable_card=3, \n",
    "                        values=[[0.3333333],   [0.3333333],   [0.3333333]])"
   ]
  },
  {
   "cell_type": "code",
   "execution_count": 24,
   "metadata": {
    "collapsed": true
   },
   "outputs": [],
   "source": [
    "TASFallSum = TabularCPD(variable='TASFallSum', variable_card=4, \n",
    "                        values=[[0.25],        [0.25],        [0.25],        [0.25]])"
   ]
  },
  {
   "cell_type": "code",
   "execution_count": 25,
   "metadata": {
    "collapsed": true
   },
   "outputs": [],
   "source": [
    "TAOFallSum = TabularCPD(variable='TAOFallSum', variable_card=4, \n",
    "                        values=[[0.25],        [0.25],        [0.25],        [0.25]])"
   ]
  },
  {
   "cell_type": "code",
   "execution_count": 26,
   "metadata": {
    "collapsed": false
   },
   "outputs": [],
   "source": [
    "SIEFallSum = TabularCPD(variable='SIEFallSum', variable_card=3, \n",
    "                        values=np.array([[0,           0.9,         0.1],\n",
    "                                [0,           1,           0],\n",
    "                                [0,           1,           0],\n",
    "                                [0,           0.7,         0.3],\n",
    "                                [0,           0,           1],\n",
    "                                [0.63,        0.34,        0.03],\n",
    "                                [0.7,         0.3,         0],\n",
    "                                [0.7,         0.3,         0],\n",
    "                                [0.49,        0.42,        0.09],\n",
    "                                [0,           0.7,         0.3],\n",
    "                                [0.9,         0.1,         0],\n",
    "                                [1,           0,           0],\n",
    "                                [1,           0,           0],\n",
    "                                [0.7,         0.3,         0],\n",
    "                                [0,           1,           0],\n",
    "                                [0.63,        0.34,        0.03],\n",
    "                                [0.7,         0.3,         0],\n",
    "                                [0.7,         0.3,         0],\n",
    "                                [0.49,        0.42,        0.09],\n",
    "                                [0,           0.7,         0.3],\n",
    "                                [0,           0.9,         0.1],\n",
    "                                [0,           1,           0],\n",
    "                                [0,           1,           0],\n",
    "                                [0,           0.7,         0.3],\n",
    "                                [0,           0,           1]\n",
    "                               ]).T.tolist(),\n",
    "                        evidence=['IceBFallSum', 'IceCFallSum'], \n",
    "                        evidence_card=[5,5])"
   ]
  },
  {
   "cell_type": "code",
   "execution_count": 27,
   "metadata": {
    "collapsed": false
   },
   "outputs": [],
   "source": [
    "ASFallSum = TabularCPD(variable='ASFallSum', variable_card=4, \n",
    "                        values=np.array([[0.9,         0.1,         0,           0],\n",
    "                                [0.3,         0.6,         0.1,         0],\n",
    "                                [0,           0.25,        0.5,         0.25],\n",
    "                                [0.6,         0.3,         0.1,         0],\n",
    "                                [0.1,         0.6,         0.3,         0],\n",
    "                                [0,           0.1,         0.3,         0.6],\n",
    "                                [0.25,        0.5,         0.25,        0],\n",
    "                                [0,           0.1,         0.6,         0.3],\n",
    "                                [0,           0,           0.1,         0.9]\n",
    "                               ]).T.tolist(),\n",
    "                        evidence=['TMFallSum', 'BCFallSum'], \n",
    "                        evidence_card=[3,3])"
   ]
  },
  {
   "cell_type": "code",
   "execution_count": 28,
   "metadata": {
    "collapsed": false
   },
   "outputs": [],
   "source": [
    "model.add_cpds(CCBFallSum, RUFallSum, IceMFallSum, IceCFallSum, IceBFallSum, \n",
    "                    EEFallSum, AVAFallSum, BenFallSum, OilFallSum, DPFallSum, BCFallSum, \n",
    "                    SATFallSum, CRFallSum, PRFallSum, HDFallSum, CDFallSum, TMFallSum, \n",
    "                    HCDMFallSum, HSFallSum, TASFallSum, TAOFallSum, SIEFallSum, ASFallSum)"
   ]
  },
  {
   "cell_type": "code",
   "execution_count": 29,
   "metadata": {
    "collapsed": false
   },
   "outputs": [
    {
     "data": {
      "text/plain": [
       "True"
      ]
     },
     "execution_count": 29,
     "metadata": {},
     "output_type": "execute_result"
    }
   ],
   "source": [
    "model.check_model()"
   ]
  },
  {
   "cell_type": "markdown",
   "metadata": {},
   "source": [
    "**Adding nodes related to Winter season**"
   ]
  },
  {
   "cell_type": "code",
   "execution_count": 30,
   "metadata": {
    "collapsed": false
   },
   "outputs": [],
   "source": [
    "model.add_nodes_from([\n",
    "                    'CCBWin', 'RUWin', 'IceMWin', 'IceCWin', 'IceBWin', \n",
    "                    'EEWin', 'AVAWin', 'Breeding', 'BenWin', 'OilWin', 'DPWin', 'BCWin', \n",
    "                    'SATWin', 'CRWin', 'PRWin', 'HDWin', 'CDWin', 'TMWin', \n",
    "                    'HCDMWin', 'HSWin', 'TASWin', 'TAOWin', 'SIEWin', 'ASWin'\n",
    "                    ])"
   ]
  },
  {
   "cell_type": "code",
   "execution_count": 31,
   "metadata": {
    "collapsed": false
   },
   "outputs": [],
   "source": [
    "model.add_edges_from([('CCBWin', 'BenWin'), \n",
    "                      ('RUWin', 'BenWin'),\n",
    "                      ('IceMWin', 'AVAWin'),\n",
    "                      ('IceCWin', 'SIEWin'),\n",
    "                      ('IceBWin', 'SIEWin'),\n",
    "                      ('EEWin', 'BCWin'),\n",
    "                      ('AVAWin', 'EEWin'), ('AVAWin', 'CRWin'), ('AVAWin', 'DPWin'), ('AVAWin', 'PRWin'), ('AVAWin', 'Breeding'),\n",
    "                      ('Breeding', 'ASWin'),\n",
    "                      ('BenWin', 'EEWin'),\n",
    "                      ('OilWin', 'BenWin'), ('OilWin', 'BCWin'),\n",
    "                      ('DPWin', 'BCWin'),\n",
    "                      ('BCWin', 'ASWin'),\n",
    "                      ('SATWin', 'OilWin'), ('SATWin', 'HDWin'),\n",
    "                      ('CRWin', 'CDWin'),\n",
    "                      ('PRWin', 'TMWin'),\n",
    "                      ('HDWin', 'CDWin'),\n",
    "                      ('CDWin', 'TMWin'),\n",
    "                      ('TMWin', 'ASWin'),\n",
    "                      ('HCDMWin', 'HDWin'), ('HCDMWin', 'TMWin'),\n",
    "                      ('HSWin', 'HDWin'),\n",
    "                      ('TASWin', 'HCDMWin'),\n",
    "                      ('TAOWin', 'HCDMWin'),\n",
    "                      ('SIEWin', 'AVAWin')\n",
    "                     ])"
   ]
  },
  {
   "cell_type": "code",
   "execution_count": 32,
   "metadata": {
    "collapsed": true
   },
   "outputs": [],
   "source": [
    "CCBWin = TabularCPD(variable='CCBWin', variable_card=3, \n",
    "                        values=[[0.3333333],   [0.3333333],   [0.3333333]])"
   ]
  },
  {
   "cell_type": "code",
   "execution_count": 33,
   "metadata": {
    "collapsed": true
   },
   "outputs": [],
   "source": [
    "RUWin = TabularCPD(variable='RUWin', variable_card=3, \n",
    "                        values=[[0.3333333],   [0.3333333],   [0.3333333]])"
   ]
  },
  {
   "cell_type": "code",
   "execution_count": 34,
   "metadata": {
    "collapsed": true
   },
   "outputs": [],
   "source": [
    "IceMWin = TabularCPD(variable='IceMWin', variable_card=3, \n",
    "                        values=[[0.3333333],   [0.3333333],   [0.3333333]])"
   ]
  },
  {
   "cell_type": "code",
   "execution_count": 35,
   "metadata": {
    "collapsed": true
   },
   "outputs": [],
   "source": [
    "IceCWin = TabularCPD(variable='IceCWin', variable_card=5, \n",
    "                        values=[[0.2],         [0.2],         [0.2],         [0.2],         [0.2]])"
   ]
  },
  {
   "cell_type": "code",
   "execution_count": 36,
   "metadata": {
    "collapsed": true
   },
   "outputs": [],
   "source": [
    "IceBWin = TabularCPD(variable='IceBWin', variable_card=5, \n",
    "                        values=[[0.2],         [0.2],         [0.2],         [0.2],         [0.2]])"
   ]
  },
  {
   "cell_type": "code",
   "execution_count": 37,
   "metadata": {
    "collapsed": false
   },
   "outputs": [],
   "source": [
    "EEWin = TabularCPD(variable='EEWin', variable_card=3, \n",
    "                        values=np.array([[0.9,         0.1,         0],\n",
    "                                [0.6,         0.35,        0.05], \n",
    "                                [0.2,         0.6,         0.2], \n",
    "                                [0.05,        0.35,        0.6], \n",
    "                                [0.75,        0.2,         0.05], \n",
    "                                [0.35,        0.6,         0.05], \n",
    "                                [0.05,        0.6,         0.35], \n",
    "                                [0.05,        0.2,         0.75], \n",
    "                                [0.2,         0.6,         0.2], \n",
    "                                [0.05,        0.6,         0.35], \n",
    "                                [0.05,        0.2,         0.75], \n",
    "                                [0,           0.1,         0.9]\n",
    "                               ]).T.tolist(),\n",
    "                        evidence=['AVAWin', 'BenWin'], \n",
    "                        evidence_card=[4,3])"
   ]
  },
  {
   "cell_type": "code",
   "execution_count": 38,
   "metadata": {
    "collapsed": false
   },
   "outputs": [],
   "source": [
    "AVAWin = TabularCPD(variable='AVAWin', variable_card=4, \n",
    "                        values=np.array([[1,           0,           0,           0],\n",
    "                                [0.95,        0.05,        0,           0],\n",
    "                                [0,           0.25,        0.5,         0.25],\n",
    "                                [0,           0.15,        0.5,         0.35],\n",
    "                                [0,           0.1,         0.5,         0.4],\n",
    "                                [0,           0,           0.15,        0.85],\n",
    "                                [0,           0.1,         0.2,         0.7],\n",
    "                                [0,           0.05,        0.2,         0.75],\n",
    "                                [0,           0,           0.1,         0.9]\n",
    "                               ]).T.tolist(),\n",
    "                        evidence=['SIEWin', 'IceMWin'], \n",
    "                        evidence_card=[3,3])"
   ]
  },
  {
   "cell_type": "code",
   "execution_count": 39,
   "metadata": {
    "collapsed": false
   },
   "outputs": [],
   "source": [
    "Breeding = TabularCPD(variable='Breeding', variable_card=3, \n",
    "                        values=np.array([[0.9,         0.1,         0],\n",
    "                                        [0.5,         0.5,         0],\n",
    "                                        [0,           0.5,         0.5],\n",
    "                                        [0,           0.1,         0.9]\n",
    "                               ]).T.tolist(),\n",
    "                        evidence=['AVAWin'], \n",
    "                        evidence_card=[4])"
   ]
  },
  {
   "cell_type": "code",
   "execution_count": 40,
   "metadata": {
    "collapsed": false
   },
   "outputs": [],
   "source": [
    "BenWin = TabularCPD(variable='BenWin', variable_card=3, \n",
    "                        values=np.array([[0.9,         0.1,         0],\n",
    "                                [0.8,         0.2,         0],\n",
    "                                [0.6,         0.35,        0.05],\n",
    "                                [0.8,         0.2,         0],\n",
    "                                [0.6,         0.35,        0.05],\n",
    "                                [0.35,        0.6,         0.05],\n",
    "                                [0.6,         0.35,        0.05],\n",
    "                                [0.35,        0.6,         0.05],\n",
    "                                [0.15,        0.7,         0.15],\n",
    "                                [0.6,         0.35,        0.05],\n",
    "                                [0.35,        0.6,         0.05],\n",
    "                                [0.15,        0.7,         0.15],\n",
    "                                [0.35,        0.6,         0.05],\n",
    "                                [0.15,        0.7,         0.15],\n",
    "                                [0.05,        0.6,         0.35],\n",
    "                                [0.15,        0.7,         0.15],\n",
    "                                [0.05,        0.6,         0.35],\n",
    "                                [0.05,        0.35,        0.6],\n",
    "                                [0.15,        0.7,         0.15],\n",
    "                                [0.05,        0.6,         0.35],\n",
    "                                [0.05,        0.35,        0.6],\n",
    "                                [0.05,        0.6,         0.35],\n",
    "                                [0.05,        0.35,        0.6],\n",
    "                                [0,           0.2,         0.8],\n",
    "                                [0.05,        0.35,        0.6],\n",
    "                                [0,           0.2,         0.8],\n",
    "                                [0,           0.1,         0.9]\n",
    "                               ]).T.tolist(),\n",
    "                        evidence=['OilWin', 'RUWin', 'CCBWin'], \n",
    "                        evidence_card=[3,3,3])"
   ]
  },
  {
   "cell_type": "code",
   "execution_count": 41,
   "metadata": {
    "collapsed": false
   },
   "outputs": [],
   "source": [
    "OilWin = TabularCPD(variable='OilWin', variable_card=3, \n",
    "                        values=np.array([[0.9,         0.1,         0],\n",
    "                                [0.7,         0.2,         0.1],\n",
    "                                [0.5,         0.3,         0.2]\n",
    "                               ]).T.tolist(),\n",
    "                        evidence=['SATWin'], \n",
    "                        evidence_card=[3])"
   ]
  },
  {
   "cell_type": "code",
   "execution_count": 42,
   "metadata": {
    "collapsed": false
   },
   "outputs": [],
   "source": [
    "DPWin = TabularCPD(variable='DPWin', variable_card=3, \n",
    "                        values=np.array([[0.9,         0.1,         0],\n",
    "                                [0.8,         0.2,         0],\n",
    "                                [0.7,         0.2,         0.1],\n",
    "                                [0.6,         0.3,         0.1]\n",
    "                               ]).T.tolist(),\n",
    "                        evidence=['AVAWin'], \n",
    "                        evidence_card=[4])"
   ]
  },
  {
   "cell_type": "code",
   "execution_count": 43,
   "metadata": {
    "collapsed": false
   },
   "outputs": [],
   "source": [
    "BCWin = TabularCPD(variable='BCWin', variable_card=3, \n",
    "                        values=np.array([[0.95,        0.05,        0],\n",
    "                                [0.9,         0.1,         0],\n",
    "                                [0,           0.3,         0.7],\n",
    "                                [0.9,         0.1,         0],\n",
    "                                [0,           0.4,         0.6],\n",
    "                                [0,           0.1,         0.9],\n",
    "                                [0,           0.3,         0.7],\n",
    "                                [0,           0.1,         0.9],\n",
    "                                [0,           0,           1],\n",
    "                                [0.9,         0.1,         0],\n",
    "                                [0.8,         0.2,         0],\n",
    "                                [0,           0.3,         0.7],\n",
    "                                [0.8,         0.2,         0],\n",
    "                                [0,           0.3,         0.7],\n",
    "                                [0,           0.1,         0.9],\n",
    "                                [0,           0.3,         0.7],\n",
    "                                [0,           0.1,         0.9],\n",
    "                                [0,           0,           1],\n",
    "                                [0.8,         0.2,         0],\n",
    "                                [0.7,         0.3,         0],\n",
    "                                [0,           0.2,         0.8],\n",
    "                                [0.7,         0.3,         0],\n",
    "                                [0,           0.3,         0.7],\n",
    "                                [0,           0.1,         0.9],\n",
    "                                [0,           0.2,         0.8],\n",
    "                                [0,           0.1,         0.9],\n",
    "                                [0,           0,           1]\n",
    "                               ]).T.tolist(),\n",
    "                        evidence=['OilWin', 'DPWin', 'EEWin'], \n",
    "                        evidence_card=[3,3,3])"
   ]
  },
  {
   "cell_type": "code",
   "execution_count": 44,
   "metadata": {
    "collapsed": true
   },
   "outputs": [],
   "source": [
    "SATWin = TabularCPD(variable='SATWin', variable_card=3, \n",
    "                        values=[[0.3333333],   [0.3333333],   [0.3333333]])"
   ]
  },
  {
   "cell_type": "code",
   "execution_count": 45,
   "metadata": {
    "collapsed": false
   },
   "outputs": [],
   "source": [
    "CRWin = TabularCPD(variable='CRWin', variable_card=3, \n",
    "                        values=np.array([[0.95,        0.05,        0],\n",
    "                                [0.7,         0.25,        0.05],\n",
    "                                [0.3,         0.4,         0.3],\n",
    "                                [0,           0.05,        0.95]\n",
    "                               ]).T.tolist(),\n",
    "                        evidence=['AVAWin'], \n",
    "                        evidence_card=[4])"
   ]
  },
  {
   "cell_type": "code",
   "execution_count": 46,
   "metadata": {
    "collapsed": false
   },
   "outputs": [],
   "source": [
    "PRWin = TabularCPD(variable='PRWin', variable_card=3, \n",
    "                        values=np.array([[0.9,         0.1,         0],\n",
    "                                [0.85,        0.15,        0],\n",
    "                                [0.5,         0.3,         0.2],\n",
    "                                [0.2,         0.4,         0.4]\n",
    "                               ]).T.tolist(),\n",
    "                        evidence=['AVAWin'], \n",
    "                        evidence_card=[4])"
   ]
  },
  {
   "cell_type": "code",
   "execution_count": 47,
   "metadata": {
    "collapsed": false
   },
   "outputs": [],
   "source": [
    "HDWin = TabularCPD(variable='HDWin', variable_card=3, \n",
    "                        values=np.array([[0.85,        0.15,        0],\n",
    "                                [0.7,         0.25,        0.05],\n",
    "                                [0.3,         0.5,         0.2],\n",
    "                                [0.7,         0.25,        0.05],\n",
    "                                [0.3,         0.5,         0.2],\n",
    "                                [0.2,         0.5,         0.3],\n",
    "                                [0.6,         0.3,         0.1],\n",
    "                                [0.2,         0.6,         0.2],\n",
    "                                [0.1,         0.3,         0.6],\n",
    "                                [0.7,         0.25,        0.05],\n",
    "                                [0.3,         0.5,         0.2],\n",
    "                                [0.2,         0.5,         0.3],\n",
    "                                [0.6,         0.3,         0.1],\n",
    "                                [0.2,         0.6,         0.2],\n",
    "                                [0.1,         0.3,         0.6],\n",
    "                                [0.3,         0.5,         0.2],\n",
    "                                [0.2,         0.5,         0.3],\n",
    "                                [0.05,        0.25,        0.7],\n",
    "                                [0.6,         0.3,         0.1],\n",
    "                                [0.2,         0.6,         0.2],\n",
    "                                [0.1,         0.3,         0.6],\n",
    "                                [0.3,         0.5,         0.2],\n",
    "                                [0.2,         0.5,         0.3],\n",
    "                                [0.05,        0.25,        0.7],\n",
    "                                [0.2,         0.5,         0.3],\n",
    "                                [0.05,        0.25,        0.7],\n",
    "                                [0,           0.15,        0.85]\n",
    "                               ]).T.tolist(),\n",
    "                        evidence=['HCDMWin', 'SATWin', 'HSWin'], \n",
    "                        evidence_card=[3,3,3])"
   ]
  },
  {
   "cell_type": "code",
   "execution_count": 48,
   "metadata": {
    "collapsed": false
   },
   "outputs": [],
   "source": [
    "CDWin = TabularCPD(variable='CDWin', variable_card=3, \n",
    "                        values=np.array([[0.9,         0.1,         0],\n",
    "                                [0.6,         0.35,        0.05],\n",
    "                                [0.15,        0.7,         0.15],\n",
    "                                [0.6,         0.35,        0.05],\n",
    "                                [0.15,        0.7,         0.15],\n",
    "                                [0.05,        0.35,        0.6],\n",
    "                                [0.15,        0.7,         0.15],\n",
    "                                [0.05,        0.35,        0.6],\n",
    "                                [0,           0.1,         0.9]\n",
    "                               ]).T.tolist(),\n",
    "                        evidence=['HDWin', 'CRWin'], \n",
    "                        evidence_card=[3,3])"
   ]
  },
  {
   "cell_type": "code",
   "execution_count": 49,
   "metadata": {
    "collapsed": false
   },
   "outputs": [],
   "source": [
    "TMWin = TabularCPD(variable='TMWin', variable_card=3, \n",
    "                        values=np.array([[0.95,        0.05,        0],\n",
    "                                [0.65,        0.35,        0],\n",
    "                                [0.15,        0.6,         0.25],\n",
    "                                [0.8,         0.2,         0],\n",
    "                                [0.25,        0.6,         0.15],\n",
    "                                [0,           0.35,        0.65],\n",
    "                                [0.65,        0.35,        0],\n",
    "                                [0.15,        0.6,         0.25],\n",
    "                                [0,           0.2,         0.8],\n",
    "                                [0.95,        0.05,        0],\n",
    "                                [0.5,         0.45,        0.05],\n",
    "                                [0.05,        0.45,        0.5],\n",
    "                                [0.65,        0.35,        0],\n",
    "                                [0.2,         0.6,         0.2],\n",
    "                                [0,           0.35,        0.65],\n",
    "                                [0.5,         0.45,        0.05],\n",
    "                                [0.05,        0.45,        0.5],\n",
    "                                [0,           0.05,        0.95],\n",
    "                                [0.8,         0.2,         0],\n",
    "                                [0.25,        0.6,         0.15],\n",
    "                                [0,           0.35,        0.65],\n",
    "                                [0.65,        0.35,        0],\n",
    "                                [0.15,        0.6,         0.25],\n",
    "                                [0,           0.2,         0.8],\n",
    "                                [0.25,        0.6,         0.15],\n",
    "                                [0,           0.35,        0.65],\n",
    "                                [0,           0.05,        0.95]\n",
    "                               ]).T.tolist(),\n",
    "                        evidence=['HCDMWin', 'CDWin', 'PRWin'], \n",
    "                        evidence_card=[3,3,3])"
   ]
  },
  {
   "cell_type": "code",
   "execution_count": 50,
   "metadata": {
    "collapsed": false
   },
   "outputs": [],
   "source": [
    "HCDMWin = TabularCPD(variable='HCDMWin', variable_card=3, \n",
    "                        values=np.array([[1,           0,           0],\n",
    "                                [0.75,        0.25,        0],\n",
    "                                [0,           0.8,         0.2],\n",
    "                                [0,           0,           1],\n",
    "                                [0.75,        0.25,        0],\n",
    "                                [0.33,        0.67,        0],\n",
    "                                [0,           0.43,        0.57],\n",
    "                                [0,           0,           1],\n",
    "                                [0,           0.8,         0.2],\n",
    "                                [0,           0.43,        0.57],\n",
    "                                [0,           0,           1],\n",
    "                                [0,           0,           1],\n",
    "                                [0,           0,           1],\n",
    "                                [0,           0,           1],\n",
    "                                [0,           0,           1],\n",
    "                                [0,           0,           1]\n",
    "                               ]).T.tolist(),\n",
    "                        evidence=['TASWin', 'TAOWin'], \n",
    "                        evidence_card=[4,4])"
   ]
  },
  {
   "cell_type": "code",
   "execution_count": 51,
   "metadata": {
    "collapsed": true
   },
   "outputs": [],
   "source": [
    "HSWin = TabularCPD(variable='HSWin', variable_card=3, \n",
    "                        values=[[0.3333333],   [0.3333333],   [0.3333333]])"
   ]
  },
  {
   "cell_type": "code",
   "execution_count": 52,
   "metadata": {
    "collapsed": true
   },
   "outputs": [],
   "source": [
    "TASWin = TabularCPD(variable='TASWin', variable_card=4, \n",
    "                        values=[[0.25],        [0.25],        [0.25],        [0.25]])"
   ]
  },
  {
   "cell_type": "code",
   "execution_count": 53,
   "metadata": {
    "collapsed": true
   },
   "outputs": [],
   "source": [
    "TAOWin = TabularCPD(variable='TAOWin', variable_card=4, \n",
    "                        values=[[0.25],        [0.25],        [0.25],        [0.25]])"
   ]
  },
  {
   "cell_type": "code",
   "execution_count": 54,
   "metadata": {
    "collapsed": false
   },
   "outputs": [],
   "source": [
    "SIEWin = TabularCPD(variable='SIEWin', variable_card=3, \n",
    "                        values=np.array([[0,           0.9,         0.1],\n",
    "                                [0,           1,           0],\n",
    "                                [0,           1,           0],\n",
    "                                [0,           0.7,         0.3],\n",
    "                                [0,           0,           1],\n",
    "                                [0.63,        0.34,        0.03],\n",
    "                                [0.7,         0.3,         0],\n",
    "                                [0.7,         0.3,         0],\n",
    "                                [0.49,        0.42,        0.09],\n",
    "                                [0,           0.7,         0.3],\n",
    "                                [0.9,         0.1,         0],\n",
    "                                [1,           0,           0],\n",
    "                                [1,           0,           0],\n",
    "                                [0.7,         0.3,         0],\n",
    "                                [0,           1,           0],\n",
    "                                [0.63,        0.34,        0.03],\n",
    "                                [0.7,         0.3,         0],\n",
    "                                [0.7,         0.3,         0],\n",
    "                                [0.49,        0.42,        0.09],\n",
    "                                [0,           0.7,         0.3],\n",
    "                                [0,           0.9,         0.1],\n",
    "                                [0,           1,           0],\n",
    "                                [0,           1,           0],\n",
    "                                [0,           0.7,         0.3],\n",
    "                                [0,           0,           1]\n",
    "                               ]).T.tolist(),\n",
    "                        evidence=['IceBWin', 'IceCWin'], \n",
    "                        evidence_card=[5,5])"
   ]
  },
  {
   "cell_type": "code",
   "execution_count": 55,
   "metadata": {
    "collapsed": false
   },
   "outputs": [],
   "source": [
    "ASWin = TabularCPD(variable='ASWin', variable_card=4, \n",
    "                        values=np.array([[0.9,         0.1,         0,           0],\n",
    "                                        [0.9,         0.1,         0,           0],\n",
    "                                        [0.6,         0.4,         0,           0],\n",
    "                                        [0.6,         0.4,         0,           0],\n",
    "                                        [0.3,         0.6,         0.1,         0],\n",
    "                                        [0.1,         0.6,         0.3,         0],\n",
    "                                        [0.1,         0.6,         0.3,         0],\n",
    "                                        [0,           0.3,         0.6,         0.1],\n",
    "                                        [0,           0.1,         0.6,         0.3],\n",
    "                                        [0.6,         0.4,         0,           0],\n",
    "                                        [0.6,         0.4,         0,           0],\n",
    "                                        [0.3,         0.6,         0.1,         0],\n",
    "                                        [0.1,         0.6,         0.3,         0],\n",
    "                                        [0.1,         0.6,         0.3,         0],\n",
    "                                        [0,           0.3,         0.6,         0.1],\n",
    "                                        [0,           0.1,         0.6,         0.3],\n",
    "                                        [0,           0.1,         0.6,         0.3],\n",
    "                                        [0,           0,           0.4,         0.6],\n",
    "                                        [0.3,         0.6,         0.1,         0],\n",
    "                                        [0.1,         0.6,         0.3,         0],\n",
    "                                        [0.1,         0.6,         0.3,         0],\n",
    "                                        [0,           0.3,         0.6,         0.1],\n",
    "                                        [0,           0.1,         0.6,         0.3],\n",
    "                                        [0,           0.1,         0.6,         0.3],\n",
    "                                        [0,           0,           0.4,         0.6],\n",
    "                                        [0,           0,           0.1,         0.9],\n",
    "                                        [0,           0,           0.1,         0.9]\n",
    "                               ]).T.tolist(),\n",
    "                        evidence=['Breeding','TMWin', 'BCWin'], \n",
    "                        evidence_card=[3,3,3])"
   ]
  },
  {
   "cell_type": "code",
   "execution_count": 56,
   "metadata": {
    "collapsed": false
   },
   "outputs": [],
   "source": [
    "model.add_cpds(CCBWin, RUWin, IceMWin, IceCWin, IceBWin, \n",
    "                    EEWin, AVAWin, Breeding, BenWin, OilWin, DPWin, BCWin, \n",
    "                    SATWin, CRWin, PRWin, HDWin, CDWin, TMWin, \n",
    "                    HCDMWin, HSWin, TASWin, TAOWin, SIEWin, ASWin)"
   ]
  },
  {
   "cell_type": "code",
   "execution_count": 57,
   "metadata": {
    "collapsed": false
   },
   "outputs": [
    {
     "data": {
      "text/plain": [
       "True"
      ]
     },
     "execution_count": 57,
     "metadata": {},
     "output_type": "execute_result"
    }
   ],
   "source": [
    "model.check_model()"
   ]
  },
  {
   "cell_type": "markdown",
   "metadata": {},
   "source": [
    "**Adding nodes related to Spring season**"
   ]
  },
  {
   "cell_type": "code",
   "execution_count": 58,
   "metadata": {
    "collapsed": false
   },
   "outputs": [],
   "source": [
    "model.add_nodes_from([\n",
    "                    'CCBSpr', 'RUSpr', 'IceMSpr', 'IceCSpr', 'IceBSpr', \n",
    "                    'EESpr', 'AVASpr', 'Birthing', 'BenSpr', 'OilSpr', 'DPSpr', 'BCSpr', \n",
    "                    'SATSpr', 'CRSpr', 'PRSpr', 'HDSpr', 'CDSpr', 'TMSpr', \n",
    "                    'HCDMSpr', 'HSSpr', 'TASSpr', 'TAOSpr', 'SIESpr', 'ASSpr'\n",
    "                    ])"
   ]
  },
  {
   "cell_type": "code",
   "execution_count": 59,
   "metadata": {
    "collapsed": false
   },
   "outputs": [],
   "source": [
    "model.add_edges_from([('CCBSpr', 'BenSpr'), \n",
    "                      ('RUSpr', 'BenSpr'),\n",
    "                      ('IceMSpr', 'AVASpr'),\n",
    "                      ('IceCSpr', 'SIESpr'),\n",
    "                      ('IceBSpr', 'SIESpr'),\n",
    "                      ('EESpr', 'BCSpr'),\n",
    "                      ('AVASpr', 'EESpr'), ('AVASpr', 'CRSpr'), ('AVASpr', 'DPSpr'), ('AVASpr', 'PRSpr'), ('AVASpr', 'Birthing'),\n",
    "                      ('Birthing', 'ASSpr'),\n",
    "                      ('BenSpr', 'EESpr'),\n",
    "                      ('OilSpr', 'BenSpr'), ('OilSpr', 'BCSpr'),\n",
    "                      ('DPSpr', 'BCSpr'),\n",
    "                      ('BCSpr', 'ASSpr'),\n",
    "                      ('SATSpr', 'OilSpr'), ('SATSpr', 'HDSpr'),\n",
    "                      ('CRSpr', 'CDSpr'),\n",
    "                      ('PRSpr', 'TMSpr'),\n",
    "                      ('HDSpr', 'CDSpr'),\n",
    "                      ('CDSpr', 'TMSpr'),\n",
    "                      ('TMSpr', 'ASSpr'),\n",
    "                      ('HCDMSpr', 'HDSpr'), ('HCDMSpr', 'TMSpr'),\n",
    "                      ('HSSpr', 'HDSpr'),\n",
    "                      ('TASSpr', 'HCDMSpr'),\n",
    "                      ('TAOSpr', 'HCDMSpr'),\n",
    "                      ('SIESpr', 'AVASpr')\n",
    "                     ])"
   ]
  },
  {
   "cell_type": "code",
   "execution_count": 60,
   "metadata": {
    "collapsed": true
   },
   "outputs": [],
   "source": [
    "CCBSpr = TabularCPD(variable='CCBSpr', variable_card=3, \n",
    "                        values=[[0.3333333],   [0.3333333],   [0.3333333]])"
   ]
  },
  {
   "cell_type": "code",
   "execution_count": 61,
   "metadata": {
    "collapsed": true
   },
   "outputs": [],
   "source": [
    "RUSpr = TabularCPD(variable='RUSpr', variable_card=3, \n",
    "                        values=[[0.3333333],   [0.3333333],   [0.3333333]])"
   ]
  },
  {
   "cell_type": "code",
   "execution_count": 62,
   "metadata": {
    "collapsed": true
   },
   "outputs": [],
   "source": [
    "IceMSpr = TabularCPD(variable='IceMSpr', variable_card=3, \n",
    "                        values=[[0.3333333],   [0.3333333],   [0.3333333]])"
   ]
  },
  {
   "cell_type": "code",
   "execution_count": 63,
   "metadata": {
    "collapsed": true
   },
   "outputs": [],
   "source": [
    "IceCSpr = TabularCPD(variable='IceCSpr', variable_card=5, \n",
    "                        values=[[0.2],         [0.2],         [0.2],         [0.2],         [0.2]])"
   ]
  },
  {
   "cell_type": "code",
   "execution_count": 64,
   "metadata": {
    "collapsed": true
   },
   "outputs": [],
   "source": [
    "IceBSpr = TabularCPD(variable='IceBSpr', variable_card=5, \n",
    "                        values=[[0.2],         [0.2],         [0.2],         [0.2],         [0.2]])"
   ]
  },
  {
   "cell_type": "code",
   "execution_count": 65,
   "metadata": {
    "collapsed": false
   },
   "outputs": [],
   "source": [
    "EESpr = TabularCPD(variable='EESpr', variable_card=3, \n",
    "                        values=np.array([[0.9,         0.1,         0],\n",
    "                                [0.6,         0.35,        0.05], \n",
    "                                [0.2,         0.6,         0.2], \n",
    "                                [0.05,        0.35,        0.6], \n",
    "                                [0.75,        0.2,         0.05], \n",
    "                                [0.35,        0.6,         0.05], \n",
    "                                [0.05,        0.6,         0.35], \n",
    "                                [0.05,        0.2,         0.75], \n",
    "                                [0.2,         0.6,         0.2], \n",
    "                                [0.05,        0.6,         0.35], \n",
    "                                [0.05,        0.2,         0.75], \n",
    "                                [0,           0.1,         0.9]\n",
    "                               ]).T.tolist(),\n",
    "                        evidence=['AVASpr', 'BenSpr'], \n",
    "                        evidence_card=[4,3])"
   ]
  },
  {
   "cell_type": "code",
   "execution_count": 66,
   "metadata": {
    "collapsed": false
   },
   "outputs": [],
   "source": [
    "AVASpr = TabularCPD(variable='AVASpr', variable_card=4, \n",
    "                        values=np.array([[1,           0,           0,           0],\n",
    "                                [0.95,        0.05,        0,           0],\n",
    "                                [0,           0.25,        0.5,         0.25],\n",
    "                                [0,           0.15,        0.5,         0.35],\n",
    "                                [0,           0.1,         0.5,         0.4],\n",
    "                                [0,           0,           0.15,        0.85],\n",
    "                                [0,           0.1,         0.2,         0.7],\n",
    "                                [0,           0.05,        0.2,         0.75],\n",
    "                                [0,           0,           0.1,         0.9]\n",
    "                               ]).T.tolist(),\n",
    "                        evidence=['SIESpr', 'IceMSpr'], \n",
    "                        evidence_card=[3,3])"
   ]
  },
  {
   "cell_type": "code",
   "execution_count": 67,
   "metadata": {
    "collapsed": false
   },
   "outputs": [],
   "source": [
    "Birthing = TabularCPD(variable='Birthing', variable_card=3, \n",
    "                        values=np.array([[0.9,         0.1,         0],\n",
    "                                        [0.5,         0.5,         0],\n",
    "                                        [0,           0.5,         0.5],\n",
    "                                        [0,           0.1,         0.9]\n",
    "                               ]).T.tolist(),\n",
    "                        evidence=['AVASpr'], \n",
    "                        evidence_card=[4])"
   ]
  },
  {
   "cell_type": "code",
   "execution_count": 68,
   "metadata": {
    "collapsed": false
   },
   "outputs": [],
   "source": [
    "BenSpr = TabularCPD(variable='BenSpr', variable_card=3, \n",
    "                        values=np.array([[0.9,         0.1,         0],\n",
    "                                [0.8,         0.2,         0],\n",
    "                                [0.6,         0.35,        0.05],\n",
    "                                [0.8,         0.2,         0],\n",
    "                                [0.6,         0.35,        0.05],\n",
    "                                [0.35,        0.6,         0.05],\n",
    "                                [0.6,         0.35,        0.05],\n",
    "                                [0.35,        0.6,         0.05],\n",
    "                                [0.15,        0.7,         0.15],\n",
    "                                [0.6,         0.35,        0.05],\n",
    "                                [0.35,        0.6,         0.05],\n",
    "                                [0.15,        0.7,         0.15],\n",
    "                                [0.35,        0.6,         0.05],\n",
    "                                [0.15,        0.7,         0.15],\n",
    "                                [0.05,        0.6,         0.35],\n",
    "                                [0.15,        0.7,         0.15],\n",
    "                                [0.05,        0.6,         0.35],\n",
    "                                [0.05,        0.35,        0.6],\n",
    "                                [0.15,        0.7,         0.15],\n",
    "                                [0.05,        0.6,         0.35],\n",
    "                                [0.05,        0.35,        0.6],\n",
    "                                [0.05,        0.6,         0.35],\n",
    "                                [0.05,        0.35,        0.6],\n",
    "                                [0,           0.2,         0.8],\n",
    "                                [0.05,        0.35,        0.6],\n",
    "                                [0,           0.2,         0.8],\n",
    "                                [0,           0.1,         0.9]\n",
    "                               ]).T.tolist(),\n",
    "                        evidence=['OilSpr', 'RUSpr', 'CCBSpr'], \n",
    "                        evidence_card=[3,3,3])"
   ]
  },
  {
   "cell_type": "code",
   "execution_count": 69,
   "metadata": {
    "collapsed": false
   },
   "outputs": [],
   "source": [
    "OilSpr = TabularCPD(variable='OilSpr', variable_card=3, \n",
    "                        values=np.array([[0.9,         0.1,         0],\n",
    "                                [0.7,         0.2,         0.1],\n",
    "                                [0.5,         0.3,         0.2]\n",
    "                               ]).T.tolist(),\n",
    "                        evidence=['SATSpr'], \n",
    "                        evidence_card=[3])"
   ]
  },
  {
   "cell_type": "code",
   "execution_count": 70,
   "metadata": {
    "collapsed": false
   },
   "outputs": [],
   "source": [
    "DPSpr = TabularCPD(variable='DPSpr', variable_card=3, \n",
    "                        values=np.array([[0.9,         0.1,         0],\n",
    "                                [0.8,         0.2,         0],\n",
    "                                [0.7,         0.2,         0.1],\n",
    "                                [0.6,         0.3,         0.1]\n",
    "                               ]).T.tolist(),\n",
    "                        evidence=['AVASpr'], \n",
    "                        evidence_card=[4])"
   ]
  },
  {
   "cell_type": "code",
   "execution_count": 71,
   "metadata": {
    "collapsed": false
   },
   "outputs": [],
   "source": [
    "BCSpr = TabularCPD(variable='BCSpr', variable_card=3, \n",
    "                        values=np.array([[0.95,        0.05,        0],\n",
    "                                [0.9,         0.1,         0],\n",
    "                                [0,           0.3,         0.7],\n",
    "                                [0.9,         0.1,         0],\n",
    "                                [0,           0.4,         0.6],\n",
    "                                [0,           0.1,         0.9],\n",
    "                                [0,           0.3,         0.7],\n",
    "                                [0,           0.1,         0.9],\n",
    "                                [0,           0,           1],\n",
    "                                [0.9,         0.1,         0],\n",
    "                                [0.8,         0.2,         0],\n",
    "                                [0,           0.3,         0.7],\n",
    "                                [0.8,         0.2,         0],\n",
    "                                [0,           0.3,         0.7],\n",
    "                                [0,           0.1,         0.9],\n",
    "                                [0,           0.3,         0.7],\n",
    "                                [0,           0.1,         0.9],\n",
    "                                [0,           0,           1],\n",
    "                                [0.8,         0.2,         0],\n",
    "                                [0.7,         0.3,         0],\n",
    "                                [0,           0.2,         0.8],\n",
    "                                [0.7,         0.3,         0],\n",
    "                                [0,           0.3,         0.7],\n",
    "                                [0,           0.1,         0.9],\n",
    "                                [0,           0.2,         0.8],\n",
    "                                [0,           0.1,         0.9],\n",
    "                                [0,           0,           1]\n",
    "                               ]).T.tolist(),\n",
    "                        evidence=['OilSpr', 'DPSpr', 'EESpr'], \n",
    "                        evidence_card=[3,3,3])"
   ]
  },
  {
   "cell_type": "code",
   "execution_count": 72,
   "metadata": {
    "collapsed": true
   },
   "outputs": [],
   "source": [
    "SATSpr = TabularCPD(variable='SATSpr', variable_card=3, \n",
    "                        values=[[0.3333333],   [0.3333333],   [0.3333333]])"
   ]
  },
  {
   "cell_type": "code",
   "execution_count": 73,
   "metadata": {
    "collapsed": false
   },
   "outputs": [],
   "source": [
    "CRSpr = TabularCPD(variable='CRSpr', variable_card=3, \n",
    "                        values=np.array([[0.95,        0.05,        0],\n",
    "                                [0.7,         0.25,        0.05],\n",
    "                                [0.3,         0.4,         0.3],\n",
    "                                [0,           0.05,        0.95]\n",
    "                               ]).T.tolist(),\n",
    "                        evidence=['AVASpr'], \n",
    "                        evidence_card=[4])"
   ]
  },
  {
   "cell_type": "code",
   "execution_count": 74,
   "metadata": {
    "collapsed": false
   },
   "outputs": [],
   "source": [
    "PRSpr = TabularCPD(variable='PRSpr', variable_card=3, \n",
    "                        values=np.array([[0.9,         0.1,         0],\n",
    "                                [0.85,        0.15,        0],\n",
    "                                [0.5,         0.3,         0.2],\n",
    "                                [0.2,         0.4,         0.4]\n",
    "                               ]).T.tolist(),\n",
    "                        evidence=['AVASpr'], \n",
    "                        evidence_card=[4])"
   ]
  },
  {
   "cell_type": "code",
   "execution_count": 75,
   "metadata": {
    "collapsed": false
   },
   "outputs": [],
   "source": [
    "HDSpr = TabularCPD(variable='HDSpr', variable_card=3, \n",
    "                        values=np.array([[0.85,        0.15,        0],\n",
    "                                [0.7,         0.25,        0.05],\n",
    "                                [0.3,         0.5,         0.2],\n",
    "                                [0.7,         0.25,        0.05],\n",
    "                                [0.3,         0.5,         0.2],\n",
    "                                [0.2,         0.5,         0.3],\n",
    "                                [0.6,         0.3,         0.1],\n",
    "                                [0.2,         0.6,         0.2],\n",
    "                                [0.1,         0.3,         0.6],\n",
    "                                [0.7,         0.25,        0.05],\n",
    "                                [0.3,         0.5,         0.2],\n",
    "                                [0.2,         0.5,         0.3],\n",
    "                                [0.6,         0.3,         0.1],\n",
    "                                [0.2,         0.6,         0.2],\n",
    "                                [0.1,         0.3,         0.6],\n",
    "                                [0.3,         0.5,         0.2],\n",
    "                                [0.2,         0.5,         0.3],\n",
    "                                [0.05,        0.25,        0.7],\n",
    "                                [0.6,         0.3,         0.1],\n",
    "                                [0.2,         0.6,         0.2],\n",
    "                                [0.1,         0.3,         0.6],\n",
    "                                [0.3,         0.5,         0.2],\n",
    "                                [0.2,         0.5,         0.3],\n",
    "                                [0.05,        0.25,        0.7],\n",
    "                                [0.2,         0.5,         0.3],\n",
    "                                [0.05,        0.25,        0.7],\n",
    "                                [0,           0.15,        0.85]\n",
    "                               ]).T.tolist(),\n",
    "                        evidence=['HCDMSpr', 'SATSpr', 'HSSpr'], \n",
    "                        evidence_card=[3,3,3])"
   ]
  },
  {
   "cell_type": "code",
   "execution_count": 76,
   "metadata": {
    "collapsed": false
   },
   "outputs": [],
   "source": [
    "CDSpr = TabularCPD(variable='CDSpr', variable_card=3, \n",
    "                        values=np.array([[0.9,         0.1,         0],\n",
    "                                [0.6,         0.35,        0.05],\n",
    "                                [0.15,        0.7,         0.15],\n",
    "                                [0.6,         0.35,        0.05],\n",
    "                                [0.15,        0.7,         0.15],\n",
    "                                [0.05,        0.35,        0.6],\n",
    "                                [0.15,        0.7,         0.15],\n",
    "                                [0.05,        0.35,        0.6],\n",
    "                                [0,           0.1,         0.9]\n",
    "                               ]).T.tolist(),\n",
    "                        evidence=['HDSpr', 'CRSpr'], \n",
    "                        evidence_card=[3,3])"
   ]
  },
  {
   "cell_type": "code",
   "execution_count": 77,
   "metadata": {
    "collapsed": false
   },
   "outputs": [],
   "source": [
    "TMSpr = TabularCPD(variable='TMSpr', variable_card=3, \n",
    "                        values=np.array([[0.95,        0.05,        0],\n",
    "                                [0.65,        0.35,        0],\n",
    "                                [0.15,        0.6,         0.25],\n",
    "                                [0.8,         0.2,         0],\n",
    "                                [0.25,        0.6,         0.15],\n",
    "                                [0,           0.35,        0.65],\n",
    "                                [0.65,        0.35,        0],\n",
    "                                [0.15,        0.6,         0.25],\n",
    "                                [0,           0.2,         0.8],\n",
    "                                [0.95,        0.05,        0],\n",
    "                                [0.5,         0.45,        0.05],\n",
    "                                [0.05,        0.45,        0.5],\n",
    "                                [0.65,        0.35,        0],\n",
    "                                [0.2,         0.6,         0.2],\n",
    "                                [0,           0.35,        0.65],\n",
    "                                [0.5,         0.45,        0.05],\n",
    "                                [0.05,        0.45,        0.5],\n",
    "                                [0,           0.05,        0.95],\n",
    "                                [0.8,         0.2,         0],\n",
    "                                [0.25,        0.6,         0.15],\n",
    "                                [0,           0.35,        0.65],\n",
    "                                [0.65,        0.35,        0],\n",
    "                                [0.15,        0.6,         0.25],\n",
    "                                [0,           0.2,         0.8],\n",
    "                                [0.25,        0.6,         0.15],\n",
    "                                [0,           0.35,        0.65],\n",
    "                                [0,           0.05,        0.95]\n",
    "                               ]).T.tolist(),\n",
    "                        evidence=['HCDMSpr', 'CDSpr', 'PRSpr'], \n",
    "                        evidence_card=[3,3,3])"
   ]
  },
  {
   "cell_type": "code",
   "execution_count": 78,
   "metadata": {
    "collapsed": false
   },
   "outputs": [],
   "source": [
    "HCDMSpr = TabularCPD(variable='HCDMSpr', variable_card=3, \n",
    "                        values=np.array([[1,           0,           0],\n",
    "                                [0.75,        0.25,        0],\n",
    "                                [0,           0.8,         0.2],\n",
    "                                [0,           0,           1],\n",
    "                                [0.75,        0.25,        0],\n",
    "                                [0.33,        0.67,        0],\n",
    "                                [0,           0.43,        0.57],\n",
    "                                [0,           0,           1],\n",
    "                                [0,           0.8,         0.2],\n",
    "                                [0,           0.43,        0.57],\n",
    "                                [0,           0,           1],\n",
    "                                [0,           0,           1],\n",
    "                                [0,           0,           1],\n",
    "                                [0,           0,           1],\n",
    "                                [0,           0,           1],\n",
    "                                [0,           0,           1]\n",
    "                               ]).T.tolist(),\n",
    "                        evidence=['TASSpr', 'TAOSpr'], \n",
    "                        evidence_card=[4,4])"
   ]
  },
  {
   "cell_type": "code",
   "execution_count": 79,
   "metadata": {
    "collapsed": true
   },
   "outputs": [],
   "source": [
    "HSSpr = TabularCPD(variable='HSSpr', variable_card=3, \n",
    "                        values=[[0.3333333],   [0.3333333],   [0.3333333]])"
   ]
  },
  {
   "cell_type": "code",
   "execution_count": 80,
   "metadata": {
    "collapsed": true
   },
   "outputs": [],
   "source": [
    "TASSpr = TabularCPD(variable='TASSpr', variable_card=4, \n",
    "                        values=[[0.25],        [0.25],        [0.25],        [0.25]])"
   ]
  },
  {
   "cell_type": "code",
   "execution_count": 81,
   "metadata": {
    "collapsed": true
   },
   "outputs": [],
   "source": [
    "TAOSpr = TabularCPD(variable='TAOSpr', variable_card=4, \n",
    "                        values=[[0.25],        [0.25],        [0.25],        [0.25]])"
   ]
  },
  {
   "cell_type": "code",
   "execution_count": 82,
   "metadata": {
    "collapsed": false
   },
   "outputs": [],
   "source": [
    "SIESpr = TabularCPD(variable='SIESpr', variable_card=3, \n",
    "                        values=np.array([[0,           0.9,         0.1],\n",
    "                                [0,           1,           0],\n",
    "                                [0,           1,           0],\n",
    "                                [0,           0.7,         0.3],\n",
    "                                [0,           0,           1],\n",
    "                                [0.63,        0.34,        0.03],\n",
    "                                [0.7,         0.3,         0],\n",
    "                                [0.7,         0.3,         0],\n",
    "                                [0.49,        0.42,        0.09],\n",
    "                                [0,           0.7,         0.3],\n",
    "                                [0.9,         0.1,         0],\n",
    "                                [1,           0,           0],\n",
    "                                [1,           0,           0],\n",
    "                                [0.7,         0.3,         0],\n",
    "                                [0,           1,           0],\n",
    "                                [0.63,        0.34,        0.03],\n",
    "                                [0.7,         0.3,         0],\n",
    "                                [0.7,         0.3,         0],\n",
    "                                [0.49,        0.42,        0.09],\n",
    "                                [0,           0.7,         0.3],\n",
    "                                [0,           0.9,         0.1],\n",
    "                                [0,           1,           0],\n",
    "                                [0,           1,           0],\n",
    "                                [0,           0.7,         0.3],\n",
    "                                [0,           0,           1]\n",
    "                               ]).T.tolist(),\n",
    "                        evidence=['IceBSpr', 'IceCSpr'], \n",
    "                        evidence_card=[5,5])"
   ]
  },
  {
   "cell_type": "code",
   "execution_count": 83,
   "metadata": {
    "collapsed": false
   },
   "outputs": [],
   "source": [
    "ASSpr = TabularCPD(variable='ASSpr', variable_card=4, \n",
    "                        values=np.array([[0.9,         0.1,         0,           0],\n",
    "                                        [0.7,         0.3,         0,           0],\n",
    "                                        [0.3,         0.6,         0.1,         0],\n",
    "                                        [0.6,         0.4,         0,           0],\n",
    "                                        [0.25,        0.5,         0.25,        0],\n",
    "                                        [0.1,         0.6,         0.3,         0],\n",
    "                                        [0.1,         0.6,         0.3,         0],\n",
    "                                        [0,           0.3,         0.6,         0.1],\n",
    "                                        [0,           0.1,         0.6,         0.3],\n",
    "                                        [0.7,         0.3,         0,           0],\n",
    "                                        [0.3,         0.6,         0.1,         0],\n",
    "                                        [0.1,         0.6,         0.3,         0],\n",
    "                                        [0.25,        0.5,         0.25,        0],\n",
    "                                        [0.1,         0.6,         0.3,         0],\n",
    "                                        [0,           0.25,        0.5,         0.25],\n",
    "                                        [0,           0.3,         0.6,         0.1],\n",
    "                                        [0,           0.1,         0.6,         0.3],\n",
    "                                        [0,           0,           0.3,         0.7],\n",
    "                                        [0.3,         0.6,         0.1,         0],\n",
    "                                        [0.1,         0.6,         0.3,         0],\n",
    "                                        [0,           0.3,         0.6,         0.1],\n",
    "                                        [0.1,         0.6,         0.3,         0],\n",
    "                                        [0,           0.25,        0.5,         0.25],\n",
    "                                        [0,           0,           0.4,         0.6],\n",
    "                                        [0,           0.1,         0.6,         0.3],\n",
    "                                        [0,           0,           0.3,         0.7],\n",
    "                                        [0,           0,           0.1,         0.9]\n",
    "                               ]).T.tolist(),\n",
    "                        evidence=['Birthing','TMSpr', 'BCSpr'], \n",
    "                        evidence_card=[3,3,3])"
   ]
  },
  {
   "cell_type": "code",
   "execution_count": 84,
   "metadata": {
    "collapsed": false
   },
   "outputs": [],
   "source": [
    "model.add_cpds(CCBSpr, RUSpr, IceMSpr, IceCSpr, IceBSpr, \n",
    "                    EESpr, AVASpr, Birthing, BenSpr, OilSpr, DPSpr, BCSpr, \n",
    "                    SATSpr, CRSpr, PRSpr, HDSpr, CDSpr, TMSpr, \n",
    "                    HCDMSpr, HSSpr, TASSpr, TAOSpr, SIESpr, ASSpr)"
   ]
  },
  {
   "cell_type": "code",
   "execution_count": 85,
   "metadata": {
    "collapsed": false
   },
   "outputs": [
    {
     "data": {
      "text/plain": [
       "True"
      ]
     },
     "execution_count": 85,
     "metadata": {},
     "output_type": "execute_result"
    }
   ],
   "source": [
    "model.check_model()"
   ]
  },
  {
   "cell_type": "markdown",
   "metadata": {},
   "source": [
    "**Adding aggregator and outcome nodes that tie together all seasons**"
   ]
  },
  {
   "cell_type": "code",
   "execution_count": 86,
   "metadata": {
    "collapsed": true
   },
   "outputs": [],
   "source": [
    "model.add_nodes_from(['SIEAll', 'ASAll', 'AllSeasonOutcome'])"
   ]
  },
  {
   "cell_type": "code",
   "execution_count": 87,
   "metadata": {
    "collapsed": true
   },
   "outputs": [],
   "source": [
    "model.add_edges_from([('SIEFallSum', 'SIEAll'), \n",
    "                      ('SIEWin', 'SIEAll'),\n",
    "                      ('SIESpr', 'SIEAll'),\n",
    "                      ('ASFallSum', 'ASAll'),\n",
    "                      ('ASWin', 'ASAll'),\n",
    "                      ('ASSpr', 'ASAll'),\n",
    "                      ('SIEAll', 'AllSeasonOutcome'),\n",
    "                      ('ASAll', 'AllSeasonOutcome')\n",
    "                     ])"
   ]
  },
  {
   "cell_type": "code",
   "execution_count": 88,
   "metadata": {
    "collapsed": false
   },
   "outputs": [],
   "source": [
    "SIEAll = TabularCPD(variable='SIEAll', variable_card=3, \n",
    "                        values=np.array([[1,           0,           0],\n",
    "                                        [0.75,        0.25,        0],\n",
    "                                        [0.75,        0,           0.25],\n",
    "                                        [0.67,        0.33,        0],\n",
    "                                        [0.42,        0.58,        0],\n",
    "                                        [0.42,        0.33,        0.25],\n",
    "                                        [0.67,        0,           0.33],\n",
    "                                        [0.42,        0.25,        0.33],\n",
    "                                        [0.42,        0,           0.58],\n",
    "                                        [0.58,        0.42,        0],\n",
    "                                        [0.33,        0.67,        0],\n",
    "                                        [0.33,        0.42,        0.25],\n",
    "                                        [0.25,        0.75,        0],\n",
    "                                        [0,           1,           0],\n",
    "                                        [0,           0.75,        0.25],\n",
    "                                        [0.25,        0.42,        0.33],\n",
    "                                        [0,           0.67,        0.33],\n",
    "                                        [0,           0.42,        0.58],\n",
    "                                        [0.58,        0,           0.42],\n",
    "                                        [0.33,        0.25,        0.42],\n",
    "                                        [0.33,        0,           0.67],\n",
    "                                        [0.25,        0.33,        0.42],\n",
    "                                        [0,           0.58,        0.42],\n",
    "                                        [0,           0.33,        0.67],\n",
    "                                        [0.25,        0,           0.75],\n",
    "                                        [0,           0.25,        0.75],\n",
    "                                        [0,           0,           1]\n",
    "                               ]).T.tolist(),\n",
    "                        evidence=['SIESpr', 'SIEWin', 'SIEFallSum'], \n",
    "                        evidence_card=[3,3,3])"
   ]
  },
  {
   "cell_type": "code",
   "execution_count": 89,
   "metadata": {
    "collapsed": false
   },
   "outputs": [],
   "source": [
    "ASAll = TabularCPD(variable='ASAll', variable_card=4, \n",
    "                        values=np.array([[0.95,        0.05,        0,           0],\n",
    "                                        [0.9,         0.1,         0,           0],\n",
    "                                        [0.25,        0.5,         0.25,        0],\n",
    "                                        [0,           0.3,         0.5,         0.2],\n",
    "                                        [0.9,         0.1,         0,           0],\n",
    "                                        [0.6,         0.4,         0,           0],\n",
    "                                        [0.25,        0.5,         0.25,        0],\n",
    "                                        [0,           0.2,         0.6,         0.2],\n",
    "                                        [0.25,        0.5,         0.25,        0],\n",
    "                                        [0.25,        0.5,         0.25,        0],\n",
    "                                        [0,           0.2,         0.6,         0.2],\n",
    "                                        [0,           0.1,         0.3,         0.6],\n",
    "                                        [0,           0.3,         0.5,         0.2],\n",
    "                                        [0,           0.2,         0.6,         0.2],\n",
    "                                        [0,           0.1,         0.3,         0.6],\n",
    "                                        [0,           0,           0.1,         0.9],\n",
    "                                        [0.9,         0.1,         0,           0],\n",
    "                                        [0.6,         0.4,         0,           0],\n",
    "                                        [0.25,        0.5,         0.25,        0],\n",
    "                                        [0,           0.2,         0.6,         0.2],\n",
    "                                        [0.6,         0.4,         0,           0],\n",
    "                                        [0.2,         0.6,         0.2,         0],\n",
    "                                        [0,           0.4,         0.6,         0],\n",
    "                                        [0,           0.2,         0.6,         0.2],\n",
    "                                        [0.25,        0.5,         0.25,        0],\n",
    "                                        [0,           0.4,         0.6,         0],\n",
    "                                        [0,           0.1,         0.4,         0.5],\n",
    "                                        [0,           0,           0.3,         0.7],\n",
    "                                        [0,           0.2,         0.6,         0.2],\n",
    "                                        [0,           0.2,         0.6,         0.2],\n",
    "                                        [0,           0,           0.3,         0.7],\n",
    "                                        [0,           0,           0.1,         0.9],\n",
    "                                        [0.25,        0.5,         0.25,        0],\n",
    "                                        [0.25,        0.5,         0.25,        0],\n",
    "                                        [0,           0.2,         0.6,         0.2],\n",
    "                                        [0,           0.1,         0.3,         0.6],\n",
    "                                        [0.25,        0.5,         0.25,        0],\n",
    "                                        [0,           0.4,         0.6,         0],\n",
    "                                        [0,           0.1,         0.4,         0.5],\n",
    "                                        [0,           0,           0.3,         0.7],\n",
    "                                        [0,           0.2,         0.6,         0.2],\n",
    "                                        [0,           0.1,         0.4,         0.5],\n",
    "                                        [0,           0.1,         0.3,         0.6],\n",
    "                                        [0,           0,           0.1,         0.9],\n",
    "                                        [0,           0.1,         0.3,         0.6],\n",
    "                                        [0,           0,           0.3,         0.7],\n",
    "                                        [0,           0,           0.1,         0.9],\n",
    "                                        [0,           0,           0.1,         0.9],\n",
    "                                        [0,           0.3,         0.5,         0.2],\n",
    "                                        [0,           0.2,         0.6,         0.2],\n",
    "                                        [0,           0.1,         0.3,         0.6],\n",
    "                                        [0,           0,           0.1,         0.9],\n",
    "                                        [0,           0.2,         0.6,         0.2],\n",
    "                                        [0,           0.2,         0.6,         0.2],\n",
    "                                        [0,           0,           0.3,         0.7],\n",
    "                                        [0,           0,           0.1,         0.9],\n",
    "                                        [0,           0.1,         0.3,         0.6],\n",
    "                                        [0,           0,           0.3,         0.7],\n",
    "                                        [0,           0,           0.1,         0.9],\n",
    "                                        [0,           0,           0.1,         0.9],\n",
    "                                        [0,           0,           0.1,         0.9],\n",
    "                                        [0,           0,           0.1,         0.9],\n",
    "                                        [0,           0,           0.1,         0.9],\n",
    "                                        [0,           0,           0.05,        0.95]\n",
    "                               ]).T.tolist(),\n",
    "                        evidence=['ASSpr', 'ASWin', 'ASFallSum'], \n",
    "                        evidence_card=[4,4,4])"
   ]
  },
  {
   "cell_type": "code",
   "execution_count": 90,
   "metadata": {
    "collapsed": false
   },
   "outputs": [],
   "source": [
    "AllSeasonOutcome = TabularCPD(variable='AllSeasonOutcome', variable_card=5, \n",
    "                        values=np.array([[0.9,         0.1,         0,           0,           0],\n",
    "                                        [0.6,         0.4,         0,           0,           0],\n",
    "                                        [0,           0.2,         0.6,         0.2,         0],\n",
    "                                        [0,           0,           0.2,         0.4,         0.4],\n",
    "                                        [0.7,         0.3,         0,           0,           0],\n",
    "                                        [0.5,         0.5,         0,           0,           0],\n",
    "                                        [0,           0,           0.8,         0.2,         0],\n",
    "                                        [0,           0,           0.1,         0.4,         0.5],\n",
    "                                        [0,           0.5,         0.5,         0,           0],\n",
    "                                        [0,           0.15,        0.7,         0.15,        0],\n",
    "                                        [0,           0,           0,           0.4,         0.6],\n",
    "                                        [0,           0,           0,           0.1,         0.9]\n",
    "                               ]).T.tolist(),\n",
    "                        evidence=['ASAll', 'SIEAll'], \n",
    "                        evidence_card=[4,3])"
   ]
  },
  {
   "cell_type": "code",
   "execution_count": 91,
   "metadata": {
    "collapsed": true
   },
   "outputs": [],
   "source": [
    "model.add_cpds(SIEAll, ASAll, AllSeasonOutcome)"
   ]
  },
  {
   "cell_type": "markdown",
   "metadata": {},
   "source": [
    "**Verifying model fit and CPDs**"
   ]
  },
  {
   "cell_type": "code",
   "execution_count": 92,
   "metadata": {
    "collapsed": false
   },
   "outputs": [
    {
     "data": {
      "text/plain": [
       "True"
      ]
     },
     "execution_count": 92,
     "metadata": {},
     "output_type": "execute_result"
    }
   ],
   "source": [
    "model.check_model()"
   ]
  },
  {
   "cell_type": "markdown",
   "metadata": {},
   "source": [
    "### Bug in pgmpy with Random Sampling\n",
    "(Incompatibaility with recent numpy versions - changes required in TabularCPD classes of library regarding float64 truncation/rounding. I have written to authors about this.)"
   ]
  },
  {
   "cell_type": "code",
   "execution_count": 94,
   "metadata": {
    "collapsed": true
   },
   "outputs": [],
   "source": [
    "from pgmpy.sampling import BayesianModelSampling"
   ]
  },
  {
   "cell_type": "code",
   "execution_count": 95,
   "metadata": {
    "collapsed": true
   },
   "outputs": [],
   "source": [
    "inference = BayesianModelSampling(model)"
   ]
  },
  {
   "cell_type": "code",
   "execution_count": 96,
   "metadata": {
    "collapsed": false
   },
   "outputs": [
    {
     "ename": "ValueError",
     "evalue": "probabilities do not sum to 1",
     "output_type": "error",
     "traceback": [
      "\u001b[0;31m---------------------------------------------------------------------------\u001b[0m",
      "\u001b[0;31mValueError\u001b[0m                                Traceback (most recent call last)",
      "\u001b[0;32m<ipython-input-96-5a60247a2008>\u001b[0m in \u001b[0;36m<module>\u001b[0;34m()\u001b[0m\n\u001b[0;32m----> 1\u001b[0;31m \u001b[0minference\u001b[0m\u001b[1;33m.\u001b[0m\u001b[0mforward_sample\u001b[0m\u001b[1;33m(\u001b[0m\u001b[1;36m1\u001b[0m\u001b[1;33m)\u001b[0m\u001b[1;33m\u001b[0m\u001b[0m\n\u001b[0m",
      "\u001b[0;32mC:\\Users\\Adarsh\\Anaconda2\\lib\\site-packages\\pgmpy\\sampling\\Sampling.pyc\u001b[0m in \u001b[0;36mforward_sample\u001b[0;34m(self, size, return_type)\u001b[0m\n\u001b[1;32m     86\u001b[0m             \u001b[1;32melse\u001b[0m\u001b[1;33m:\u001b[0m\u001b[1;33m\u001b[0m\u001b[0m\n\u001b[1;32m     87\u001b[0m                 \u001b[0mweights\u001b[0m \u001b[1;33m=\u001b[0m \u001b[0mcpd\u001b[0m\u001b[1;33m.\u001b[0m\u001b[0mvalues\u001b[0m\u001b[1;33m\u001b[0m\u001b[0m\n\u001b[0;32m---> 88\u001b[0;31m             \u001b[0msampled\u001b[0m\u001b[1;33m[\u001b[0m\u001b[0mnode\u001b[0m\u001b[1;33m]\u001b[0m \u001b[1;33m=\u001b[0m \u001b[0msample_discrete\u001b[0m\u001b[1;33m(\u001b[0m\u001b[0mstates\u001b[0m\u001b[1;33m,\u001b[0m \u001b[0mweights\u001b[0m\u001b[1;33m,\u001b[0m \u001b[0msize\u001b[0m\u001b[1;33m)\u001b[0m\u001b[1;33m\u001b[0m\u001b[0m\n\u001b[0m\u001b[1;32m     89\u001b[0m \u001b[1;33m\u001b[0m\u001b[0m\n\u001b[1;32m     90\u001b[0m         \u001b[1;32mreturn\u001b[0m \u001b[0m_return_samples\u001b[0m\u001b[1;33m(\u001b[0m\u001b[0mreturn_type\u001b[0m\u001b[1;33m,\u001b[0m \u001b[0msampled\u001b[0m\u001b[1;33m)\u001b[0m\u001b[1;33m\u001b[0m\u001b[0m\n",
      "\u001b[0;32mC:\\Users\\Adarsh\\Anaconda2\\lib\\site-packages\\pgmpy\\utils\\mathext.pyc\u001b[0m in \u001b[0;36msample_discrete\u001b[0;34m(values, weights, size)\u001b[0m\n\u001b[1;32m     85\u001b[0m     \u001b[0mweights\u001b[0m \u001b[1;33m=\u001b[0m \u001b[0mnp\u001b[0m\u001b[1;33m.\u001b[0m\u001b[0marray\u001b[0m\u001b[1;33m(\u001b[0m\u001b[0mweights\u001b[0m\u001b[1;33m)\u001b[0m\u001b[1;33m\u001b[0m\u001b[0m\n\u001b[1;32m     86\u001b[0m     \u001b[1;32mif\u001b[0m \u001b[0mweights\u001b[0m\u001b[1;33m.\u001b[0m\u001b[0mndim\u001b[0m \u001b[1;33m==\u001b[0m \u001b[1;36m1\u001b[0m\u001b[1;33m:\u001b[0m\u001b[1;33m\u001b[0m\u001b[0m\n\u001b[0;32m---> 87\u001b[0;31m         \u001b[1;32mreturn\u001b[0m \u001b[0mnp\u001b[0m\u001b[1;33m.\u001b[0m\u001b[0mrandom\u001b[0m\u001b[1;33m.\u001b[0m\u001b[0mchoice\u001b[0m\u001b[1;33m(\u001b[0m\u001b[0mvalues\u001b[0m\u001b[1;33m,\u001b[0m \u001b[0msize\u001b[0m\u001b[1;33m=\u001b[0m\u001b[0msize\u001b[0m\u001b[1;33m,\u001b[0m \u001b[0mp\u001b[0m\u001b[1;33m=\u001b[0m\u001b[0mweights\u001b[0m\u001b[1;33m)\u001b[0m\u001b[1;33m\u001b[0m\u001b[0m\n\u001b[0m\u001b[1;32m     88\u001b[0m     \u001b[1;32melse\u001b[0m\u001b[1;33m:\u001b[0m\u001b[1;33m\u001b[0m\u001b[0m\n\u001b[1;32m     89\u001b[0m         \u001b[1;32mreturn\u001b[0m \u001b[0mnp\u001b[0m\u001b[1;33m.\u001b[0m\u001b[0mfromiter\u001b[0m\u001b[1;33m(\u001b[0m\u001b[0mmap\u001b[0m\u001b[1;33m(\u001b[0m\u001b[1;32mlambda\u001b[0m \u001b[0mt\u001b[0m\u001b[1;33m:\u001b[0m \u001b[0mnp\u001b[0m\u001b[1;33m.\u001b[0m\u001b[0mrandom\u001b[0m\u001b[1;33m.\u001b[0m\u001b[0mchoice\u001b[0m\u001b[1;33m(\u001b[0m\u001b[0mvalues\u001b[0m\u001b[1;33m,\u001b[0m \u001b[0mp\u001b[0m\u001b[1;33m=\u001b[0m\u001b[0mt\u001b[0m\u001b[1;33m)\u001b[0m\u001b[1;33m,\u001b[0m \u001b[0mweights\u001b[0m\u001b[1;33m)\u001b[0m\u001b[1;33m,\u001b[0m \u001b[0mdtype\u001b[0m\u001b[1;33m=\u001b[0m\u001b[1;34m'int'\u001b[0m\u001b[1;33m)\u001b[0m\u001b[1;33m\u001b[0m\u001b[0m\n",
      "\u001b[0;32mmtrand.pyx\u001b[0m in \u001b[0;36mmtrand.RandomState.choice (numpy\\random\\mtrand\\mtrand.c:17766)\u001b[0;34m()\u001b[0m\n",
      "\u001b[0;31mValueError\u001b[0m: probabilities do not sum to 1"
     ]
    }
   ],
   "source": [
    "inference.forward_sample(1)"
   ]
  },
  {
   "cell_type": "markdown",
   "metadata": {},
   "source": [
    "### Fails for Rejection Sampling as well\n",
    "(Same problem as before)"
   ]
  },
  {
   "cell_type": "code",
   "execution_count": 97,
   "metadata": {
    "collapsed": false
   },
   "outputs": [
    {
     "ename": "ValueError",
     "evalue": "probabilities do not sum to 1",
     "output_type": "error",
     "traceback": [
      "\u001b[0;31m---------------------------------------------------------------------------\u001b[0m",
      "\u001b[0;31mValueError\u001b[0m                                Traceback (most recent call last)",
      "\u001b[0;32m<ipython-input-97-25b0e0350081>\u001b[0m in \u001b[0;36m<module>\u001b[0;34m()\u001b[0m\n\u001b[0;32m----> 1\u001b[0;31m \u001b[0minference\u001b[0m\u001b[1;33m.\u001b[0m\u001b[0mrejection_sample\u001b[0m\u001b[1;33m(\u001b[0m\u001b[1;33m)\u001b[0m\u001b[1;33m\u001b[0m\u001b[0m\n\u001b[0m",
      "\u001b[0;32mC:\\Users\\Adarsh\\Anaconda2\\lib\\site-packages\\pgmpy\\sampling\\Sampling.pyc\u001b[0m in \u001b[0;36mrejection_sample\u001b[0;34m(self, evidence, size, return_type)\u001b[0m\n\u001b[1;32m    142\u001b[0m         \"\"\"\n\u001b[1;32m    143\u001b[0m         \u001b[1;32mif\u001b[0m \u001b[0mevidence\u001b[0m \u001b[1;32mis\u001b[0m \u001b[0mNone\u001b[0m\u001b[1;33m:\u001b[0m\u001b[1;33m\u001b[0m\u001b[0m\n\u001b[0;32m--> 144\u001b[0;31m             \u001b[1;32mreturn\u001b[0m \u001b[0mself\u001b[0m\u001b[1;33m.\u001b[0m\u001b[0mforward_sample\u001b[0m\u001b[1;33m(\u001b[0m\u001b[0msize\u001b[0m\u001b[1;33m)\u001b[0m\u001b[1;33m\u001b[0m\u001b[0m\n\u001b[0m\u001b[1;32m    145\u001b[0m         \u001b[0mtypes\u001b[0m \u001b[1;33m=\u001b[0m \u001b[1;33m[\u001b[0m\u001b[1;33m(\u001b[0m\u001b[0mvar_name\u001b[0m\u001b[1;33m,\u001b[0m \u001b[1;34m'int'\u001b[0m\u001b[1;33m)\u001b[0m \u001b[1;32mfor\u001b[0m \u001b[0mvar_name\u001b[0m \u001b[1;32min\u001b[0m \u001b[0mself\u001b[0m\u001b[1;33m.\u001b[0m\u001b[0mtopological_order\u001b[0m\u001b[1;33m]\u001b[0m\u001b[1;33m\u001b[0m\u001b[0m\n\u001b[1;32m    146\u001b[0m         \u001b[0msampled\u001b[0m \u001b[1;33m=\u001b[0m \u001b[0mnp\u001b[0m\u001b[1;33m.\u001b[0m\u001b[0mzeros\u001b[0m\u001b[1;33m(\u001b[0m\u001b[1;36m0\u001b[0m\u001b[1;33m,\u001b[0m \u001b[0mdtype\u001b[0m\u001b[1;33m=\u001b[0m\u001b[0mtypes\u001b[0m\u001b[1;33m)\u001b[0m\u001b[1;33m.\u001b[0m\u001b[0mview\u001b[0m\u001b[1;33m(\u001b[0m\u001b[0mnp\u001b[0m\u001b[1;33m.\u001b[0m\u001b[0mrecarray\u001b[0m\u001b[1;33m)\u001b[0m\u001b[1;33m\u001b[0m\u001b[0m\n",
      "\u001b[0;32mC:\\Users\\Adarsh\\Anaconda2\\lib\\site-packages\\pgmpy\\sampling\\Sampling.pyc\u001b[0m in \u001b[0;36mforward_sample\u001b[0;34m(self, size, return_type)\u001b[0m\n\u001b[1;32m     86\u001b[0m             \u001b[1;32melse\u001b[0m\u001b[1;33m:\u001b[0m\u001b[1;33m\u001b[0m\u001b[0m\n\u001b[1;32m     87\u001b[0m                 \u001b[0mweights\u001b[0m \u001b[1;33m=\u001b[0m \u001b[0mcpd\u001b[0m\u001b[1;33m.\u001b[0m\u001b[0mvalues\u001b[0m\u001b[1;33m\u001b[0m\u001b[0m\n\u001b[0;32m---> 88\u001b[0;31m             \u001b[0msampled\u001b[0m\u001b[1;33m[\u001b[0m\u001b[0mnode\u001b[0m\u001b[1;33m]\u001b[0m \u001b[1;33m=\u001b[0m \u001b[0msample_discrete\u001b[0m\u001b[1;33m(\u001b[0m\u001b[0mstates\u001b[0m\u001b[1;33m,\u001b[0m \u001b[0mweights\u001b[0m\u001b[1;33m,\u001b[0m \u001b[0msize\u001b[0m\u001b[1;33m)\u001b[0m\u001b[1;33m\u001b[0m\u001b[0m\n\u001b[0m\u001b[1;32m     89\u001b[0m \u001b[1;33m\u001b[0m\u001b[0m\n\u001b[1;32m     90\u001b[0m         \u001b[1;32mreturn\u001b[0m \u001b[0m_return_samples\u001b[0m\u001b[1;33m(\u001b[0m\u001b[0mreturn_type\u001b[0m\u001b[1;33m,\u001b[0m \u001b[0msampled\u001b[0m\u001b[1;33m)\u001b[0m\u001b[1;33m\u001b[0m\u001b[0m\n",
      "\u001b[0;32mC:\\Users\\Adarsh\\Anaconda2\\lib\\site-packages\\pgmpy\\utils\\mathext.pyc\u001b[0m in \u001b[0;36msample_discrete\u001b[0;34m(values, weights, size)\u001b[0m\n\u001b[1;32m     85\u001b[0m     \u001b[0mweights\u001b[0m \u001b[1;33m=\u001b[0m \u001b[0mnp\u001b[0m\u001b[1;33m.\u001b[0m\u001b[0marray\u001b[0m\u001b[1;33m(\u001b[0m\u001b[0mweights\u001b[0m\u001b[1;33m)\u001b[0m\u001b[1;33m\u001b[0m\u001b[0m\n\u001b[1;32m     86\u001b[0m     \u001b[1;32mif\u001b[0m \u001b[0mweights\u001b[0m\u001b[1;33m.\u001b[0m\u001b[0mndim\u001b[0m \u001b[1;33m==\u001b[0m \u001b[1;36m1\u001b[0m\u001b[1;33m:\u001b[0m\u001b[1;33m\u001b[0m\u001b[0m\n\u001b[0;32m---> 87\u001b[0;31m         \u001b[1;32mreturn\u001b[0m \u001b[0mnp\u001b[0m\u001b[1;33m.\u001b[0m\u001b[0mrandom\u001b[0m\u001b[1;33m.\u001b[0m\u001b[0mchoice\u001b[0m\u001b[1;33m(\u001b[0m\u001b[0mvalues\u001b[0m\u001b[1;33m,\u001b[0m \u001b[0msize\u001b[0m\u001b[1;33m=\u001b[0m\u001b[0msize\u001b[0m\u001b[1;33m,\u001b[0m \u001b[0mp\u001b[0m\u001b[1;33m=\u001b[0m\u001b[0mweights\u001b[0m\u001b[1;33m)\u001b[0m\u001b[1;33m\u001b[0m\u001b[0m\n\u001b[0m\u001b[1;32m     88\u001b[0m     \u001b[1;32melse\u001b[0m\u001b[1;33m:\u001b[0m\u001b[1;33m\u001b[0m\u001b[0m\n\u001b[1;32m     89\u001b[0m         \u001b[1;32mreturn\u001b[0m \u001b[0mnp\u001b[0m\u001b[1;33m.\u001b[0m\u001b[0mfromiter\u001b[0m\u001b[1;33m(\u001b[0m\u001b[0mmap\u001b[0m\u001b[1;33m(\u001b[0m\u001b[1;32mlambda\u001b[0m \u001b[0mt\u001b[0m\u001b[1;33m:\u001b[0m \u001b[0mnp\u001b[0m\u001b[1;33m.\u001b[0m\u001b[0mrandom\u001b[0m\u001b[1;33m.\u001b[0m\u001b[0mchoice\u001b[0m\u001b[1;33m(\u001b[0m\u001b[0mvalues\u001b[0m\u001b[1;33m,\u001b[0m \u001b[0mp\u001b[0m\u001b[1;33m=\u001b[0m\u001b[0mt\u001b[0m\u001b[1;33m)\u001b[0m\u001b[1;33m,\u001b[0m \u001b[0mweights\u001b[0m\u001b[1;33m)\u001b[0m\u001b[1;33m,\u001b[0m \u001b[0mdtype\u001b[0m\u001b[1;33m=\u001b[0m\u001b[1;34m'int'\u001b[0m\u001b[1;33m)\u001b[0m\u001b[1;33m\u001b[0m\u001b[0m\n",
      "\u001b[0;32mmtrand.pyx\u001b[0m in \u001b[0;36mmtrand.RandomState.choice (numpy\\random\\mtrand\\mtrand.c:17766)\u001b[0;34m()\u001b[0m\n",
      "\u001b[0;31mValueError\u001b[0m: probabilities do not sum to 1"
     ]
    }
   ],
   "source": [
    "inference.rejection_sample()"
   ]
  },
  {
   "cell_type": "markdown",
   "metadata": {},
   "source": [
    "#### Part 2\n",
    "## Comparing performance and choosing algorithm"
   ]
  },
  {
   "cell_type": "markdown",
   "metadata": {},
   "source": [
    "This call never completes even after waiting for 3.5 hrs!! I have written to authors about this - the problem seems to be because of a highly connected graph as the current network."
   ]
  },
  {
   "cell_type": "code",
   "execution_count": 93,
   "metadata": {
    "collapsed": false
   },
   "outputs": [
    {
     "ename": "KeyboardInterrupt",
     "evalue": "",
     "output_type": "error",
     "traceback": [
      "\u001b[0;31m---------------------------------------------------------------------------\u001b[0m",
      "\u001b[0;31mKeyboardInterrupt\u001b[0m                         Traceback (most recent call last)",
      "\u001b[0;32m<ipython-input-93-186a04d78c76>\u001b[0m in \u001b[0;36m<module>\u001b[0;34m()\u001b[0m\n\u001b[1;32m      1\u001b[0m \u001b[1;32mfrom\u001b[0m \u001b[0mpgmpy\u001b[0m\u001b[1;33m.\u001b[0m\u001b[0msampling\u001b[0m \u001b[1;32mimport\u001b[0m \u001b[0mGibbsSampling\u001b[0m\u001b[1;33m\u001b[0m\u001b[0m\n\u001b[1;32m      2\u001b[0m \u001b[1;33m\u001b[0m\u001b[0m\n\u001b[0;32m----> 3\u001b[0;31m \u001b[0mgibbsSampler\u001b[0m \u001b[1;33m=\u001b[0m \u001b[0mGibbsSampling\u001b[0m\u001b[1;33m(\u001b[0m\u001b[0mmodel\u001b[0m\u001b[1;33m)\u001b[0m\u001b[1;33m\u001b[0m\u001b[0m\n\u001b[0m",
      "\u001b[0;32mC:\\Users\\Adarsh\\Anaconda2\\lib\\site-packages\\pgmpy\\sampling\\Sampling.pyc\u001b[0m in \u001b[0;36m__init__\u001b[0;34m(self, model)\u001b[0m\n\u001b[1;32m    272\u001b[0m         \u001b[0msuper\u001b[0m\u001b[1;33m(\u001b[0m\u001b[0mGibbsSampling\u001b[0m\u001b[1;33m,\u001b[0m \u001b[0mself\u001b[0m\u001b[1;33m)\u001b[0m\u001b[1;33m.\u001b[0m\u001b[0m__init__\u001b[0m\u001b[1;33m(\u001b[0m\u001b[1;33m)\u001b[0m\u001b[1;33m\u001b[0m\u001b[0m\n\u001b[1;32m    273\u001b[0m         \u001b[1;32mif\u001b[0m \u001b[0misinstance\u001b[0m\u001b[1;33m(\u001b[0m\u001b[0mmodel\u001b[0m\u001b[1;33m,\u001b[0m \u001b[0mBayesianModel\u001b[0m\u001b[1;33m)\u001b[0m\u001b[1;33m:\u001b[0m\u001b[1;33m\u001b[0m\u001b[0m\n\u001b[0;32m--> 274\u001b[0;31m             \u001b[0mself\u001b[0m\u001b[1;33m.\u001b[0m\u001b[0m_get_kernel_from_bayesian_model\u001b[0m\u001b[1;33m(\u001b[0m\u001b[0mmodel\u001b[0m\u001b[1;33m)\u001b[0m\u001b[1;33m\u001b[0m\u001b[0m\n\u001b[0m\u001b[1;32m    275\u001b[0m         \u001b[1;32melif\u001b[0m \u001b[0misinstance\u001b[0m\u001b[1;33m(\u001b[0m\u001b[0mmodel\u001b[0m\u001b[1;33m,\u001b[0m \u001b[0mMarkovModel\u001b[0m\u001b[1;33m)\u001b[0m\u001b[1;33m:\u001b[0m\u001b[1;33m\u001b[0m\u001b[0m\n\u001b[1;32m    276\u001b[0m             \u001b[0mself\u001b[0m\u001b[1;33m.\u001b[0m\u001b[0m_get_kernel_from_markov_model\u001b[0m\u001b[1;33m(\u001b[0m\u001b[0mmodel\u001b[0m\u001b[1;33m)\u001b[0m\u001b[1;33m\u001b[0m\u001b[0m\n",
      "\u001b[0;32mC:\\Users\\Adarsh\\Anaconda2\\lib\\site-packages\\pgmpy\\sampling\\Sampling.pyc\u001b[0m in \u001b[0;36m_get_kernel_from_bayesian_model\u001b[0;34m(self, model)\u001b[0m\n\u001b[1;32m    299\u001b[0m             \u001b[1;32mfor\u001b[0m \u001b[0mtup\u001b[0m \u001b[1;32min\u001b[0m \u001b[0mitertools\u001b[0m\u001b[1;33m.\u001b[0m\u001b[0mproduct\u001b[0m\u001b[1;33m(\u001b[0m\u001b[1;33m*\u001b[0m\u001b[1;33m[\u001b[0m\u001b[0mrange\u001b[0m\u001b[1;33m(\u001b[0m\u001b[0mcard\u001b[0m\u001b[1;33m)\u001b[0m \u001b[1;32mfor\u001b[0m \u001b[0mcard\u001b[0m \u001b[1;32min\u001b[0m \u001b[0mother_cards\u001b[0m\u001b[1;33m]\u001b[0m\u001b[1;33m)\u001b[0m\u001b[1;33m:\u001b[0m\u001b[1;33m\u001b[0m\u001b[0m\n\u001b[1;32m    300\u001b[0m                 \u001b[0mstates\u001b[0m \u001b[1;33m=\u001b[0m \u001b[1;33m[\u001b[0m\u001b[0mState\u001b[0m\u001b[1;33m(\u001b[0m\u001b[0mv\u001b[0m\u001b[1;33m,\u001b[0m \u001b[0ms\u001b[0m\u001b[1;33m)\u001b[0m \u001b[1;32mfor\u001b[0m \u001b[0mv\u001b[0m\u001b[1;33m,\u001b[0m \u001b[0ms\u001b[0m \u001b[1;32min\u001b[0m \u001b[0mzip\u001b[0m\u001b[1;33m(\u001b[0m\u001b[0mother_vars\u001b[0m\u001b[1;33m,\u001b[0m \u001b[0mtup\u001b[0m\u001b[1;33m)\u001b[0m \u001b[1;32mif\u001b[0m \u001b[0mv\u001b[0m \u001b[1;32min\u001b[0m \u001b[0mscope\u001b[0m\u001b[1;33m]\u001b[0m\u001b[1;33m\u001b[0m\u001b[0m\n\u001b[0;32m--> 301\u001b[0;31m                 \u001b[0mprod_cpd_reduced\u001b[0m \u001b[1;33m=\u001b[0m \u001b[0mprod_cpd\u001b[0m\u001b[1;33m.\u001b[0m\u001b[0mreduce\u001b[0m\u001b[1;33m(\u001b[0m\u001b[0mstates\u001b[0m\u001b[1;33m,\u001b[0m \u001b[0minplace\u001b[0m\u001b[1;33m=\u001b[0m\u001b[0mFalse\u001b[0m\u001b[1;33m)\u001b[0m\u001b[1;33m\u001b[0m\u001b[0m\n\u001b[0m\u001b[1;32m    302\u001b[0m                 \u001b[0mkernel\u001b[0m\u001b[1;33m[\u001b[0m\u001b[0mtup\u001b[0m\u001b[1;33m]\u001b[0m \u001b[1;33m=\u001b[0m \u001b[0mprod_cpd_reduced\u001b[0m\u001b[1;33m.\u001b[0m\u001b[0mvalues\u001b[0m \u001b[1;33m/\u001b[0m \u001b[0msum\u001b[0m\u001b[1;33m(\u001b[0m\u001b[0mprod_cpd_reduced\u001b[0m\u001b[1;33m.\u001b[0m\u001b[0mvalues\u001b[0m\u001b[1;33m)\u001b[0m\u001b[1;33m\u001b[0m\u001b[0m\n\u001b[1;32m    303\u001b[0m             \u001b[0mself\u001b[0m\u001b[1;33m.\u001b[0m\u001b[0mtransition_models\u001b[0m\u001b[1;33m[\u001b[0m\u001b[0mvar\u001b[0m\u001b[1;33m]\u001b[0m \u001b[1;33m=\u001b[0m \u001b[0mkernel\u001b[0m\u001b[1;33m\u001b[0m\u001b[0m\n",
      "\u001b[0;32mC:\\Users\\Adarsh\\Anaconda2\\lib\\site-packages\\pgmpy\\utils\\state_name.pyc\u001b[0m in \u001b[0;36m__call__\u001b[0;34m(self, f, instance, args, kwargs)\u001b[0m\n\u001b[1;32m    165\u001b[0m \u001b[1;33m\u001b[0m\u001b[0m\n\u001b[1;32m    166\u001b[0m         \u001b[1;32mif\u001b[0m \u001b[1;32mnot\u001b[0m \u001b[0mmethod_self\u001b[0m\u001b[1;33m.\u001b[0m\u001b[0mstate_names\u001b[0m\u001b[1;33m:\u001b[0m\u001b[1;33m\u001b[0m\u001b[0m\n\u001b[0;32m--> 167\u001b[0;31m             \u001b[1;32mreturn\u001b[0m \u001b[0mf\u001b[0m\u001b[1;33m(\u001b[0m\u001b[1;33m*\u001b[0m\u001b[0margs\u001b[0m\u001b[1;33m,\u001b[0m \u001b[1;33m**\u001b[0m\u001b[0mkwargs\u001b[0m\u001b[1;33m)\u001b[0m\u001b[1;33m\u001b[0m\u001b[0m\n\u001b[0m\u001b[1;32m    168\u001b[0m         \u001b[1;32melse\u001b[0m\u001b[1;33m:\u001b[0m\u001b[1;33m\u001b[0m\u001b[0m\n\u001b[1;32m    169\u001b[0m             \u001b[0mself\u001b[0m\u001b[1;33m.\u001b[0m\u001b[0mstate_names\u001b[0m \u001b[1;33m=\u001b[0m \u001b[0mmethod_self\u001b[0m\u001b[1;33m.\u001b[0m\u001b[0mstate_names\u001b[0m\u001b[1;33m\u001b[0m\u001b[0m\n",
      "\u001b[0;32mC:\\Users\\Adarsh\\Anaconda2\\lib\\site-packages\\pgmpy\\factors\\discrete\\CPD.pyc\u001b[0m in \u001b[0;36mreduce\u001b[0;34m(self, values, inplace)\u001b[0m\n\u001b[1;32m    332\u001b[0m         \u001b[0mtabular_cpd\u001b[0m \u001b[1;33m=\u001b[0m \u001b[0mself\u001b[0m \u001b[1;32mif\u001b[0m \u001b[0minplace\u001b[0m \u001b[1;32melse\u001b[0m \u001b[0mself\u001b[0m\u001b[1;33m.\u001b[0m\u001b[0mcopy\u001b[0m\u001b[1;33m(\u001b[0m\u001b[1;33m)\u001b[0m\u001b[1;33m\u001b[0m\u001b[0m\n\u001b[1;32m    333\u001b[0m \u001b[1;33m\u001b[0m\u001b[0m\n\u001b[0;32m--> 334\u001b[0;31m         \u001b[0msuper\u001b[0m\u001b[1;33m(\u001b[0m\u001b[0mTabularCPD\u001b[0m\u001b[1;33m,\u001b[0m \u001b[0mtabular_cpd\u001b[0m\u001b[1;33m)\u001b[0m\u001b[1;33m.\u001b[0m\u001b[0mreduce\u001b[0m\u001b[1;33m(\u001b[0m\u001b[0mvalues\u001b[0m\u001b[1;33m)\u001b[0m\u001b[1;33m\u001b[0m\u001b[0m\n\u001b[0m\u001b[1;32m    335\u001b[0m         \u001b[0mtabular_cpd\u001b[0m\u001b[1;33m.\u001b[0m\u001b[0mnormalize\u001b[0m\u001b[1;33m(\u001b[0m\u001b[1;33m)\u001b[0m\u001b[1;33m\u001b[0m\u001b[0m\n\u001b[1;32m    336\u001b[0m \u001b[1;33m\u001b[0m\u001b[0m\n",
      "\u001b[0;31mKeyboardInterrupt\u001b[0m: "
     ]
    }
   ],
   "source": [
    "from pgmpy.sampling import GibbsSampling\n",
    "\n",
    "gibbsSampler = GibbsSampling(model)"
   ]
  },
  {
   "cell_type": "code",
   "execution_count": 94,
   "metadata": {
    "collapsed": true
   },
   "outputs": [],
   "source": [
    "from pgmpy.inference import VariableElimination"
   ]
  },
  {
   "cell_type": "code",
   "execution_count": 95,
   "metadata": {
    "collapsed": true
   },
   "outputs": [],
   "source": [
    "infer = VariableElimination(model)"
   ]
  },
  {
   "cell_type": "code",
   "execution_count": 96,
   "metadata": {
    "collapsed": false
   },
   "outputs": [
    {
     "name": "stdout",
     "output_type": "stream",
     "text": [
      "Exact inference completed in  153.71  seconds\n"
     ]
    }
   ],
   "source": [
    "from time import time\n",
    "\n",
    "b = time()\n",
    "q = infer.query(variables=['SIEFallSum'], evidence={'SIEAll':2})\n",
    "print \"Exact inference completed in \", round(time()-b,2), \" seconds\""
   ]
  },
  {
   "cell_type": "code",
   "execution_count": 97,
   "metadata": {
    "collapsed": false
   },
   "outputs": [
    {
     "name": "stdout",
     "output_type": "stream",
     "text": [
      "+--------------+-------------------+\n",
      "| SIEFallSum   |   phi(SIEFallSum) |\n",
      "|--------------+-------------------|\n",
      "| SIEFallSum_0 |            0.5045 |\n",
      "| SIEFallSum_1 |            0.4276 |\n",
      "| SIEFallSum_2 |            0.3592 |\n",
      "+--------------+-------------------+\n"
     ]
    }
   ],
   "source": [
    "print(q)"
   ]
  },
  {
   "cell_type": "code",
   "execution_count": 98,
   "metadata": {
    "collapsed": false
   },
   "outputs": [
    {
     "data": {
      "text/plain": [
       "'1.12.0'"
      ]
     },
     "execution_count": 98,
     "metadata": {},
     "output_type": "execute_result"
    }
   ],
   "source": [
    "np.__version__"
   ]
  },
  {
   "cell_type": "markdown",
   "metadata": {
    "collapsed": true
   },
   "source": []
  }
 ],
 "metadata": {
  "anaconda-cloud": {},
  "kernelspec": {
   "display_name": "Python [conda root]",
   "language": "python",
   "name": "conda-root-py"
  },
  "language_info": {
   "codemirror_mode": {
    "name": "ipython",
    "version": 2
   },
   "file_extension": ".py",
   "mimetype": "text/x-python",
   "name": "python",
   "nbconvert_exporter": "python",
   "pygments_lexer": "ipython2",
   "version": "2.7.12"
  }
 },
 "nbformat": 4,
 "nbformat_minor": 1
}
