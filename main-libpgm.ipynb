{
 "cells": [
  {
   "cell_type": "markdown",
   "metadata": {},
   "source": [
    "# Bayesian Networks to study the factors affecting the population of PacificWalrus\n",
    "\n",
    "Implementation in **libpgm**"
   ]
  },
  {
   "cell_type": "markdown",
   "metadata": {},
   "source": [
    "#### Part 1\n",
    "## Model Construction"
   ]
  },
  {
   "cell_type": "code",
   "execution_count": 1,
   "metadata": {
    "collapsed": true
   },
   "outputs": [],
   "source": [
    "import json\n",
    "\n",
    "from libpgm.nodedata import NodeData\n",
    "from libpgm.graphskeleton import GraphSkeleton\n",
    "from libpgm.discretebayesiannetwork import DiscreteBayesianNetwork"
   ]
  },
  {
   "cell_type": "code",
   "execution_count": 2,
   "metadata": {
    "collapsed": false
   },
   "outputs": [],
   "source": [
    "nd = NodeData()\n",
    "skel = GraphSkeleton()"
   ]
  },
  {
   "cell_type": "markdown",
   "metadata": {},
   "source": [
    "All the information of variables/nodes in the network and edges has been formatted in to JSON format (**network.json**) as expected by libpgm. Network was constructed as-is in the original paper"
   ]
  },
  {
   "cell_type": "code",
   "execution_count": 3,
   "metadata": {
    "collapsed": true
   },
   "outputs": [],
   "source": [
    "nd.load('network.json')\n",
    "skel.load('network.json')"
   ]
  },
  {
   "cell_type": "code",
   "execution_count": 4,
   "metadata": {
    "collapsed": true
   },
   "outputs": [],
   "source": [
    "skel.toporder()\n",
    "\n",
    "bn = DiscreteBayesianNetwork(skel, nd)"
   ]
  },
  {
   "cell_type": "code",
   "execution_count": 5,
   "metadata": {
    "collapsed": true
   },
   "outputs": [],
   "source": [
    "from libpgm.tablecpdfactorization import TableCPDFactorization\n",
    "\n",
    "fn = TableCPDFactorization(bn)"
   ]
  },
  {
   "cell_type": "code",
   "execution_count": 6,
   "metadata": {
    "collapsed": true
   },
   "outputs": [],
   "source": [
    "from libpgm.sampleaggregator import SampleAggregator\n",
    "\n",
    "agg = SampleAggregator()"
   ]
  },
  {
   "cell_type": "code",
   "execution_count": 18,
   "metadata": {
    "collapsed": false
   },
   "outputs": [
    {
     "name": "stdout",
     "output_type": "stream",
     "text": [
      "Finished sampling in  568.87 seconds\n"
     ]
    }
   ],
   "source": [
    "from time import time\n",
    "\n",
    "b = time()\n",
    "s = fn.gibbssample(evidence=dict(), n=1000)\n",
    "print \"Finished sampling in \",round(time()-b, 2), \"seconds\""
   ]
  },
  {
   "cell_type": "code",
   "execution_count": 19,
   "metadata": {
    "collapsed": false
   },
   "outputs": [
    {
     "data": {
      "text/plain": [
       "{u'both': 0.439, u'insufficient': 0.125, u'one': 0.436}"
      ]
     },
     "execution_count": 19,
     "metadata": {},
     "output_type": "execute_result"
    }
   ],
   "source": [
    "r = agg.aggregate(s)\n",
    "r['SIEsumfal']"
   ]
  },
  {
   "cell_type": "markdown",
   "metadata": {},
   "source": [
    "#### Part 2\n",
    "## Choosing an inference algorithm\n",
    "\n",
    "By running the query **Q** from **Section 3 in Report**"
   ]
  },
  {
   "cell_type": "code",
   "execution_count": 7,
   "metadata": {
    "collapsed": false
   },
   "outputs": [
    {
     "name": "stdout",
     "output_type": "stream",
     "text": [
      "Finished sampling in  458.65 seconds\n"
     ]
    }
   ],
   "source": [
    "from time import time\n",
    "\n",
    "b = time()\n",
    "setOne = fn.gibbssample(evidence=dict(SIEall=\"insufficient\"), n=1000)\n",
    "print \"Finished sampling in \",round(time()-b, 2), \"seconds\""
   ]
  },
  {
   "cell_type": "code",
   "execution_count": 9,
   "metadata": {
    "collapsed": false
   },
   "outputs": [
    {
     "data": {
      "text/plain": [
       "{u'both': 0.334, u'insufficient': 0.285, u'one': 0.381}"
      ]
     },
     "execution_count": 9,
     "metadata": {},
     "output_type": "execute_result"
    }
   ],
   "source": [
    "approxOne = agg.aggregate(setOne)\n",
    "\n",
    "approxOne['SIEsumfal']"
   ]
  },
  {
   "cell_type": "code",
   "execution_count": 10,
   "metadata": {
    "collapsed": false
   },
   "outputs": [
    {
     "name": "stdout",
     "output_type": "stream",
     "text": [
      "Finished sampling in  1012.01 seconds\n"
     ]
    }
   ],
   "source": [
    "from time import time\n",
    "\n",
    "b = time()\n",
    "setTwo = fn.gibbssample(evidence=dict(SIEall=\"insufficient\"), n=2000)\n",
    "print \"Finished sampling in \",round(time()-b, 2), \"seconds\""
   ]
  },
  {
   "cell_type": "code",
   "execution_count": 11,
   "metadata": {
    "collapsed": false
   },
   "outputs": [
    {
     "data": {
      "text/plain": [
       "{u'both': 0.282, u'insufficient': 0.3025, u'one': 0.4155}"
      ]
     },
     "execution_count": 11,
     "metadata": {},
     "output_type": "execute_result"
    }
   ],
   "source": [
    "approxTwo = agg.aggregate(setTwo)\n",
    "\n",
    "approxTwo['SIEsumfal']"
   ]
  },
  {
   "cell_type": "code",
   "execution_count": 8,
   "metadata": {
    "collapsed": false
   },
   "outputs": [
    {
     "name": "stdout",
     "output_type": "stream",
     "text": [
      "Finished sampling in  1140.81 seconds\n"
     ]
    }
   ],
   "source": [
    "from time import time\n",
    "\n",
    "b = time()\n",
    "fn = TableCPDFactorization(bn)\n",
    "setThree = fn.gibbssample(evidence=dict(SIEall=\"insufficient\"), n=2500)\n",
    "print \"Finished sampling in \",round(time()-b, 2), \"seconds\""
   ]
  },
  {
   "cell_type": "code",
   "execution_count": 9,
   "metadata": {
    "collapsed": false
   },
   "outputs": [
    {
     "data": {
      "text/plain": [
       "{u'both': 0.2468, u'insufficient': 0.4484, u'one': 0.3048}"
      ]
     },
     "execution_count": 9,
     "metadata": {},
     "output_type": "execute_result"
    }
   ],
   "source": [
    "approxThree = agg.aggregate(setThree)\n",
    "\n",
    "approxThree['SIEsumfal']"
   ]
  },
  {
   "cell_type": "code",
   "execution_count": 14,
   "metadata": {
    "collapsed": false
   },
   "outputs": [
    {
     "name": "stdout",
     "output_type": "stream",
     "text": [
      "Finished sampling in  713.47 seconds\n"
     ]
    }
   ],
   "source": [
    "from time import time\n",
    "\n",
    "b = time()\n",
    "fn = TableCPDFactorization(bn)\n",
    "setFour = fn.gibbssample(evidence=dict(SIEall=\"insufficient\"), n=1500)\n",
    "print \"Finished sampling in \",round(time()-b, 2), \"seconds\""
   ]
  },
  {
   "cell_type": "code",
   "execution_count": 15,
   "metadata": {
    "collapsed": false
   },
   "outputs": [
    {
     "data": {
      "text/plain": [
       "{u'both': 0.25066666666666665,\n",
       " u'insufficient': 0.436,\n",
       " u'one': 0.31333333333333335}"
      ]
     },
     "execution_count": 15,
     "metadata": {},
     "output_type": "execute_result"
    }
   ],
   "source": [
    "approxFour = agg.aggregate(setFour)\n",
    "\n",
    "approxFour['SIEsumfal']"
   ]
  },
  {
   "cell_type": "code",
   "execution_count": 8,
   "metadata": {
    "collapsed": false
   },
   "outputs": [
    {
     "name": "stdout",
     "output_type": "stream",
     "text": [
      "Finished exact inference in  5.64  seconds\n",
      "Probability that SIEsumfal = 'sufficient in both seas' is  0.200448\n",
      "Probability that SIEsumfal = 'sufficient in one sea' is  0.295104\n",
      "Probability that SIEsumfal = 'insufficient in both seas' is  0.504448\n"
     ]
    }
   ],
   "source": [
    "from time import time\n",
    "\n",
    "b = time()\n",
    "exactOne = bn.specificquery(dict(SIEsumfal=[\"both\"]), dict(SIEall=\"insufficient\"))\n",
    "print \"Finished exact inference in \", round(time()-b,2),\" seconds\"\n",
    "exactTwo = bn.specificquery(dict(SIEsumfal=[\"one\"]), dict(SIEall=\"insufficient\"))\n",
    "exactThree = bn.specificquery(dict(SIEsumfal=[\"insufficient\"]), dict(SIEall=\"insufficient\"))\n",
    "print \"Probability that SIEsumfal = 'sufficient in both seas' is \",exactOne\n",
    "print \"Probability that SIEsumfal = 'sufficient in one sea' is \",exactTwo\n",
    "print \"Probability that SIEsumfal = 'insufficient in both seas' is \",exactThree"
   ]
  },
  {
   "cell_type": "markdown",
   "metadata": {},
   "source": [
    "#### Part 3\n",
    "## Answering queries"
   ]
  },
  {
   "cell_type": "markdown",
   "metadata": {},
   "source": [
    "#### Question\n",
    "### Insufficient ice cover in which season has a stronger influence?"
   ]
  },
  {
   "cell_type": "code",
   "execution_count": 79,
   "metadata": {
    "collapsed": false
   },
   "outputs": [
    {
     "name": "stdout",
     "output_type": "stream",
     "text": [
      "Probability for Fall/Summer:  0.504448\n",
      "Probability for Winter:  0.427552\n",
      "Probability for Spring:  0.3592\n"
     ]
    }
   ],
   "source": [
    "evidence = dict(SIEall=\"insufficient\")\n",
    "\n",
    "querySummer = dict(SIEsumfal=[\"insufficient\"])\n",
    "queryWinter = dict(SIEwin=[\"insufficient\"])\n",
    "querySpring = dict(SIEspr=[\"insufficient\"])\n",
    "\n",
    "summer = TableCPDFactorization(bn).specificquery(querySummer, evidence)\n",
    "winter = TableCPDFactorization(bn).specificquery(queryWinter, evidence)\n",
    "spring = TableCPDFactorization(bn).specificquery(querySpring, evidence)\n",
    "\n",
    "print \"Probability for Fall/Summer: \",summer\n",
    "print \"Probability for Winter: \",winter\n",
    "print \"Probability for Spring: \",spring"
   ]
  },
  {
   "cell_type": "markdown",
   "metadata": {},
   "source": [
    "**Answer:** Insufficient icecover throughout the year is more likely to be caused by insufficient ice cover in Summer"
   ]
  },
  {
   "cell_type": "markdown",
   "metadata": {},
   "source": [
    "#### Question\n",
    "### Insufficient ice cover in which sea has a stronger influence? Chukchi Sea or Bering Sea?"
   ]
  },
  {
   "cell_type": "code",
   "execution_count": 81,
   "metadata": {
    "collapsed": false
   },
   "outputs": [
    {
     "name": "stdout",
     "output_type": "stream",
     "text": [
      "Probability for Chukchi Sea:  0.384615384615\n",
      "Probability for Bering Sea:  0.714285714286\n"
     ]
    }
   ],
   "source": [
    "evidence = dict(SIEsumfal=\"insufficient\")\n",
    "\n",
    "queryChukchi = dict(IceCsumfal=[\"0 to 10\"])\n",
    "queryBering = dict(IceBsumfal=[\"0 to 10\"])\n",
    "\n",
    "chukchi = bn.specificquery(queryChukchi, evidence)\n",
    "bering = bn.specificquery(queryBering, evidence)\n",
    "\n",
    "print \"Probability for Chukchi Sea: \", chukchi\n",
    "print \"Probability for Bering Sea: \", bering"
   ]
  },
  {
   "cell_type": "markdown",
   "metadata": {},
   "source": [
    "**Answer:** Ice cover of **<10%** in Bering Sea is more likely to cause insufficient ice cover for Walrus sustenance than that of Chukchi Sea."
   ]
  },
  {
   "cell_type": "markdown",
   "metadata": {},
   "source": [
    "#### Question\n",
    "### What is the worse that could happen because of insufficient ice cover?\n",
    "\n",
    "#### (Contrast this answer to human caused direct impacts in subsequent questions)"
   ]
  },
  {
   "cell_type": "code",
   "execution_count": 83,
   "metadata": {
    "collapsed": false
   },
   "outputs": [
    {
     "name": "stdout",
     "output_type": "stream",
     "text": [
      "Probability that the population will be Robust:  0.0\n",
      "Probability that the population will be Persistent:  0.150033805833\n",
      "Probability that the population will be Vulnerable:  0.301983755664\n",
      "Probability that the population will be Rare:  0.184682960683\n",
      "Probability that the population will be Extirpated:  0.363299477821\n"
     ]
    }
   ],
   "source": [
    "evidence = dict(SIEall=\"insufficient\")\n",
    "\n",
    "queryRobust = dict(AllOutCJ=[\"robust\"])\n",
    "queryPersistent = dict(AllOutCJ=[\"persistent\"])\n",
    "queryVulnerable = dict(AllOutCJ=[\"vulnerable\"])\n",
    "queryRare = dict(AllOutCJ=[\"rare\"])\n",
    "queryExtirpated = dict(AllOutCJ=[\"extirpation\"])\n",
    "\n",
    "robust = bn.specificquery(queryRobust, evidence)\n",
    "persistent = bn.specificquery(queryPersistent, evidence)\n",
    "vulnerable = bn.specificquery(queryVulnerable, evidence)\n",
    "rare = bn.specificquery(queryRare, evidence)\n",
    "extirpated = bn.specificquery(queryExtirpated, evidence)\n",
    "\n",
    "print \"Probability that the population will be Robust: \", robust\n",
    "print \"Probability that the population will be Persistent: \", persistent\n",
    "print \"Probability that the population will be Vulnerable: \", vulnerable\n",
    "print \"Probability that the population will be Rare: \", rare\n",
    "print \"Probability that the population will be Extirpated: \", extirpated"
   ]
  },
  {
   "cell_type": "markdown",
   "metadata": {},
   "source": [
    "**Answer:** Population of walrus is more likely to be vulnerable by the end of the year if the ice cover is insufficient."
   ]
  },
  {
   "cell_type": "markdown",
   "metadata": {},
   "source": [
    "#### Question\n",
    "### What are the indirect impacts of human activities (not including hunting or illegal activities) on Total Mortality?"
   ]
  },
  {
   "cell_type": "code",
   "execution_count": 85,
   "metadata": {
    "collapsed": false
   },
   "outputs": [
    {
     "name": "stdout",
     "output_type": "stream",
     "text": [
      "Probability that Total Mortality is low:  0.175546268448\n",
      "Probability that Total Mortality is moderate:  0.304151730181\n",
      "Probability that Total Mortality is high:  0.520302001371\n"
     ]
    }
   ],
   "source": [
    "evidence = dict(HUMwin=\"high\", SATwin=\"high\")\n",
    "\n",
    "queryLow = dict(TMwin=[\"low\"])\n",
    "queryModerate = dict(TMwin=[\"moderate\"])\n",
    "queryHigh = dict(TMwin=[\"high\"])\n",
    "\n",
    "low = bn.specificquery(queryLow, evidence)\n",
    "moderate = bn.specificquery(queryModerate, evidence)\n",
    "high = bn.specificquery(queryHigh, evidence)\n",
    "\n",
    "print \"Probability that Total Mortality is low: \", low\n",
    "print \"Probability that Total Mortality is moderate: \", moderate\n",
    "print \"Probability that Total Mortality is high: \", high"
   ]
  },
  {
   "cell_type": "markdown",
   "metadata": {},
   "source": [
    "**Answer:** Total Mortality is relatively higher."
   ]
  },
  {
   "cell_type": "markdown",
   "metadata": {},
   "source": [
    "#### Question\n",
    "### What are the impacts of direct human threats on Total Mortality?\n",
    "#### Objective: To study the impact of Hunting and Illegal killing on Total Mortality as compared to other factors such as Diseases & Parasites, Predators, Indirect disturbances due to human activities, Crowding, Prey abundance etc.,"
   ]
  },
  {
   "cell_type": "code",
   "execution_count": 86,
   "metadata": {
    "collapsed": false
   },
   "outputs": [
    {
     "name": "stdout",
     "output_type": "stream",
     "text": [
      "Probability that Total Mortality is low:  0.0228302929648\n",
      "Probability that Total Mortality is moderate:  0.273480561272\n",
      "Probability that Total Mortality is high:  0.703689145763\n"
     ]
    }
   ],
   "source": [
    "evidence = dict(TASwin=\"veryhigh\", TAOwin=\"veryhigh\")\n",
    "\n",
    "queryLow = dict(TMwin=[\"low\"])\n",
    "queryModerate = dict(TMwin=[\"moderate\"])\n",
    "queryHigh = dict(TMwin=[\"high\"])\n",
    "\n",
    "low = bn.specificquery(queryLow, evidence)\n",
    "moderate = bn.specificquery(queryModerate, evidence)\n",
    "high = bn.specificquery(queryHigh, evidence)\n",
    "\n",
    "print \"Probability that Total Mortality is low: \", low\n",
    "print \"Probability that Total Mortality is moderate: \", moderate\n",
    "print \"Probability that Total Mortality is high: \", high"
   ]
  },
  {
   "cell_type": "markdown",
   "metadata": {},
   "source": [
    "**Answer:** Total Mortality is very likely to be high because of direct human threats such as Hunting and Illegal Killing."
   ]
  },
  {
   "cell_type": "markdown",
   "metadata": {},
   "source": [
    "#### Question\n",
    "### Given good environmental conditions - ice extent, if the Walrus Population was extirpated, how likely is it because of high human-caused mortality as opposed to Diseases or other biological factors?\n",
    "**(Evidential Reasoning approach to support previous question)**"
   ]
  },
  {
   "cell_type": "code",
   "execution_count": 89,
   "metadata": {
    "collapsed": false
   },
   "outputs": [
    {
     "name": "stdout",
     "output_type": "stream",
     "text": [
      "Probability that Human-Caused Direct Mortality was high/very-high:  0.757196227565\n",
      "Probability that Diseases were high:  0.119711936518\n"
     ]
    }
   ],
   "source": [
    "evidence = dict(SIEall=\"both\", AllOutCJ=\"extirpation\")\n",
    "\n",
    "queryHuman = dict(DMsumfal=[\"high\"])\n",
    "queryDisease = dict(DPsumfal=[\"high\"])\n",
    "\n",
    "human = bn.specificquery(queryHuman, evidence)\n",
    "disease = bn.specificquery(queryDisease, evidence)\n",
    "\n",
    "print \"Probability that Human-Caused Direct Mortality was high/very-high: \", human\n",
    "print \"Probability that Diseases were high: \", disease"
   ]
  },
  {
   "cell_type": "markdown",
   "metadata": {},
   "source": [
    "**Answer:** Human-Caused Direct Mortality (Hunting, Illegal activities such as fishing, industry and illegal research) is the most significant threat to population of Walrus."
   ]
  },
  {
   "cell_type": "markdown",
   "metadata": {},
   "source": [
    "#### Question\n",
    "### So, if Human-Caused Direct Mortality were to be reduced, what is the outcome?\n",
    "**(Causal Reasoning: How big a change are we talking about, if we were to stop hunting and illegal killing?)**"
   ]
  },
  {
   "cell_type": "code",
   "execution_count": 90,
   "metadata": {
    "collapsed": false
   },
   "outputs": [
    {
     "name": "stdout",
     "output_type": "stream",
     "text": [
      "Probability that the population will be Robust:  0.50588387525\n",
      "Probability that the population will be Persistent:  0.264239145207\n",
      "Probability that the population will be Vulnerable:  0.152071272562\n",
      "Probability that the population will be Rare:  0.0479780448851\n",
      "Probability that the population will be Extirpated:  0.0298276620965\n"
     ]
    }
   ],
   "source": [
    "evidence = dict(DMsumfal=\"low\", DMwin=\"low\", DMspr=\"low\")\n",
    "\n",
    "queryRobust = dict(AllOutCJ=[\"robust\"])\n",
    "queryPersistent = dict(AllOutCJ=[\"persistent\"])\n",
    "queryVulnerable = dict(AllOutCJ=[\"vulnerable\"])\n",
    "queryRare = dict(AllOutCJ=[\"rare\"])\n",
    "queryExtirpated = dict(AllOutCJ=[\"extirpation\"])\n",
    "\n",
    "robust = bn.specificquery(queryRobust, evidence)\n",
    "persistent = bn.specificquery(queryPersistent, evidence)\n",
    "vulnerable = bn.specificquery(queryVulnerable, evidence)\n",
    "rare = bn.specificquery(queryRare, evidence)\n",
    "extirpated = bn.specificquery(queryExtirpated, evidence)\n",
    "\n",
    "print \"Probability that the population will be Robust: \", robust\n",
    "print \"Probability that the population will be Persistent: \", persistent\n",
    "print \"Probability that the population will be Vulnerable: \", vulnerable\n",
    "print \"Probability that the population will be Rare: \", rare\n",
    "print \"Probability that the population will be Extirpated: \", extirpated"
   ]
  },
  {
   "cell_type": "markdown",
   "metadata": {},
   "source": [
    "**Answer:** Population of Walrus would safely be Robust or Persistent, just by enforcing strict regulations against killing walrus in any form.\n",
    "\n",
    "(Such a simple and effective first step to answer a question involving 75 factors/nodes)"
   ]
  },
  {
   "cell_type": "markdown",
   "metadata": {
    "collapsed": true
   },
   "source": [
    "#### Extra code for plots, tables etc.,"
   ]
  },
  {
   "cell_type": "code",
   "execution_count": 17,
   "metadata": {
    "collapsed": false
   },
   "outputs": [
    {
     "name": "stdout",
     "output_type": "stream",
     "text": [
      "[0.10514238327063458, 0.01124384304498624, 0.083733129093766762, 0.0083816177581639631]\n"
     ]
    }
   ],
   "source": [
    "import numpy as np\n",
    "\n",
    "klFour = - ( \n",
    "    0.2468 * (np.log(0.200448) - np.log(0.2468)) + \n",
    "    0.3048 * (np.log(0.295104) - np.log(0.3048)) + \n",
    "    0.4484 * (np.log(0.504448) - np.log(0.4484))\n",
    ")\n",
    "\n",
    "klThree = - ( \n",
    "    0.282 * (np.log(0.200448) - np.log(0.282)) + \n",
    "    0.4155 * (np.log(0.295104) - np.log(0.4155)) + \n",
    "    0.3025 * (np.log(0.504448) - np.log(0.3025))\n",
    ")\n",
    "\n",
    "klTwo = - ( \n",
    "    0.25066666666666665 * (np.log(0.200448) - np.log(0.25066666666666665)) + \n",
    "    0.31333333333333335 * (np.log(0.295104) - np.log(0.31333333333333335)) + \n",
    "    0.436 * (np.log(0.504448) - np.log(0.436))\n",
    ")\n",
    "\n",
    "klOne = - ( \n",
    "    0.334 * (np.log(0.200448) - np.log(0.334)) + \n",
    "    0.381 * (np.log(0.295104) - np.log(0.381)) + \n",
    "    0.285 * (np.log(0.504448) - np.log(0.285))\n",
    ")\n",
    "\n",
    "print [klOne, klTwo, klThree, klFour]"
   ]
  },
  {
   "cell_type": "code",
   "execution_count": 18,
   "metadata": {
    "collapsed": false
   },
   "outputs": [
    {
     "data": {
      "image/png": "[encoded data removed]",
      "text/plain": [
       "<matplotlib.figure.Figure at 0xbb8bb70>"
      ]
     },
     "metadata": {},
     "output_type": "display_data"
    }
   ],
   "source": [
    "import matplotlib.pyplot as plt\n",
    "\n",
    "plt.plot([1000, 1500, 2000, 2500], [klOne, klTwo, klThree, klFour])\n",
    "plt.xlabel(\"Sample Size\")\n",
    "plt.ylabel(\"KL-Divergence\")\n",
    "plt.xticks([1000, 1250, 1500,1750, 2000, 2250, 2500])\n",
    "plt.show()\n"
   ]
  },
  {
   "cell_type": "code",
   "execution_count": null,
   "metadata": {
    "collapsed": true
   },
   "outputs": [],
   "source": []
  }
 ],
 "metadata": {
  "anaconda-cloud": {},
  "kernelspec": {
   "display_name": "Python [conda root]",
   "language": "python",
   "name": "conda-root-py"
  },
  "language_info": {
   "codemirror_mode": {
    "name": "ipython",
    "version": 2
   },
   "file_extension": ".py",
   "mimetype": "text/x-python",
   "name": "python",
   "nbconvert_exporter": "python",
   "pygments_lexer": "ipython2",
   "version": "2.7.12"
  }
 },
 "nbformat": 4,
 "nbformat_minor": 1
}
